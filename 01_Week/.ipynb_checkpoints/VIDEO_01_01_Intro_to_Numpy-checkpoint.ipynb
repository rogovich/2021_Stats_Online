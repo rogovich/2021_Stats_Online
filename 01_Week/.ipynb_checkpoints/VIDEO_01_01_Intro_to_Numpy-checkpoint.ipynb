{
 "cells": [
  {
   "cell_type": "markdown",
   "metadata": {},
   "source": [
    "# Введение в NumPy"
   ]
  },
  {
   "cell_type": "markdown",
   "metadata": {},
   "source": [
    "### Массивы numpy"
   ]
  },
  {
   "cell_type": "code",
   "execution_count": 1,
   "metadata": {},
   "outputs": [
    {
     "name": "stdout",
     "output_type": "stream",
     "text": [
      "[2, 4, 5, 10, 4, 2]\n"
     ]
    }
   ],
   "source": [
    "x = [2, 4, 5]\n",
    "y = [10, 4, 2]\n",
    "# x + y"
   ]
  },
  {
   "cell_type": "code",
   "execution_count": 48,
   "metadata": {},
   "outputs": [],
   "source": [
    "# импортируем numpy\n",
    "\n",
    "# преобразуем наши списки в массивы\n",
    "\n",
    "# напечатаем\n",
    "\n",
    "# выведем тип"
   ]
  },
  {
   "cell_type": "code",
   "execution_count": 4,
   "metadata": {},
   "outputs": [
    {
     "name": "stdout",
     "output_type": "stream",
     "text": [
      "[12  8  7]\n",
      "[ 4  8 10]\n",
      "[100000000     65536       256]\n"
     ]
    }
   ],
   "source": [
    "# сложим\n",
    "\n",
    "# умножим \n",
    "\n",
    "# возведем в степень"
   ]
  },
  {
   "cell_type": "code",
   "execution_count": 49,
   "metadata": {},
   "outputs": [],
   "source": [
    "# сравним\n",
    "\n",
    "# отфильтруем"
   ]
  },
  {
   "cell_type": "code",
   "execution_count": 50,
   "metadata": {},
   "outputs": [],
   "source": [
    "z_np = np.array(['cat', 1, 2.4, True])\n",
    "# напечатаем\n",
    "\n",
    "# проверим тип данных с .dtype\n",
    "\n",
    "# проверим тип данных второго элемента"
   ]
  },
  {
   "cell_type": "code",
   "execution_count": 51,
   "metadata": {},
   "outputs": [],
   "source": [
    "z_np = np.array([1, 2.4, True])\n",
    "# напечатаем\n",
    "\n",
    "# проверим тип данных с .dtype"
   ]
  },
  {
   "cell_type": "code",
   "execution_count": 52,
   "metadata": {},
   "outputs": [],
   "source": [
    "A = np.array([[2, 4, 7], [29, 12, 4]])\n",
    "# напечатаем\n"
   ]
  },
  {
   "cell_type": "code",
   "execution_count": 53,
   "metadata": {},
   "outputs": [],
   "source": [
    "# выведем значение второй колонки первого ряда\n",
    "\n",
    "# а теперь другим способом\n",
    "\n",
    "# выведем все значения второй колонки\n",
    "\n",
    "# выведем все значения первого ряда\n"
   ]
  },
  {
   "cell_type": "code",
   "execution_count": 18,
   "metadata": {},
   "outputs": [
    {
     "name": "stdout",
     "output_type": "stream",
     "text": [
      "(2, 3)\n",
      "2\n",
      "6\n"
     ]
    }
   ],
   "source": [
    "# shape\n",
    "\n",
    "# ndim\n",
    "\n",
    "# size"
   ]
  },
  {
   "cell_type": "code",
   "execution_count": 55,
   "metadata": {},
   "outputs": [],
   "source": [
    "# методы массива"
   ]
  },
  {
   "cell_type": "markdown",
   "metadata": {},
   "source": [
    "### Эксперимент #1"
   ]
  },
  {
   "cell_type": "code",
   "execution_count": 61,
   "metadata": {},
   "outputs": [
    {
     "name": "stdout",
     "output_type": "stream",
     "text": [
      "Сколько времени заняло перемножение списков? 0.1353919506072998 сек\n"
     ]
    }
   ],
   "source": [
    "import time\n",
    "\n",
    "# задаем размер наших списков\n",
    "size = 1000000  \n",
    "   \n",
    "# объявляем списки\n",
    "list1 = range(size)\n",
    "list2 = range(size)\n",
    "\n",
    "# запоминаем временную метку\n",
    "initial_time = time.time()\n",
    "  \n",
    "# перемножаем элементы списков\n",
    "result_list = [(a * b) for a, b in zip(list1, list2)]\n",
    "list_time = time.time() - initial_time\n",
    "\n",
    "# смотрим, сколько времени это заняло\n",
    "print(\"Сколько времени заняло перемножение списков?\", list_time, \"сек\")"
   ]
  },
  {
   "cell_type": "code",
   "execution_count": 65,
   "metadata": {},
   "outputs": [
    {
     "name": "stdout",
     "output_type": "stream",
     "text": [
      "Сколько времени заняло перемножение массивов numpy? 0.004901885986328125 сек.\n",
      "Во сколько раз быстрее? 28 раз\n"
     ]
    }
   ],
   "source": [
    "# объявляем массивы numpy\n",
    "array1 = numpy.arange(size)  \n",
    "array2 = numpy.arange(size)\n",
    "   \n",
    "# запоминаем временную метку\n",
    "initial_time = time.time()\n",
    "  \n",
    "# перемножаем массивы\n",
    "result_array = array1 * array2\n",
    "\n",
    "array_time = time.time() - initial_time\n",
    "\n",
    "# смотрим, сколько времени это заняло\n",
    "print(\"Сколько времени заняло перемножение массивов numpy?\", array_time, \"сек.\")\n",
    "print(\"Во сколько раз быстрее?\", round(list_time/array_time), 'раз')"
   ]
  },
  {
   "cell_type": "markdown",
   "metadata": {},
   "source": [
    "### Эксперимент #2"
   ]
  },
  {
   "cell_type": "code",
   "execution_count": 47,
   "metadata": {},
   "outputs": [
    {
     "name": "stdout",
     "output_type": "stream",
     "text": [
      "Находим сумму элементов списка с функцией sum(): 0.014336109161376953\n",
      "Находим сумму элементов массива с нативным методом .sum(): 0.0005218982696533203\n",
      "Находим сумму элементов массива с функцией .sum(): 0.12977004051208496\n"
     ]
    }
   ],
   "source": [
    "size = 1000000  \n",
    "list1 = range(size)\n",
    "array1 = np.array(list1)\n",
    "\n",
    "initial_time = time.time()\n",
    "list_sum = sum(list1)\n",
    "sum1_time = time.time() - initial_time\n",
    "\n",
    "initial_time = time.time()\n",
    "array_sum = array1.sum()\n",
    "sum2_time = time.time() - initial_time\n",
    "\n",
    "initial_time = time.time()\n",
    "array2_sum = sum(array1)\n",
    "sum3_time = time.time() - initial_time\n",
    "\n",
    "print('Находим сумму элементов списка с функцией sum():', sum1_time)\n",
    "print('Находим сумму элементов массива с нативным методом .sum():', sum2_time)\n",
    "print('Находим сумму элементов массива с функцией .sum():', sum3_time)"
   ]
  }
 ],
 "metadata": {
  "kernelspec": {
   "display_name": "Python 3",
   "language": "python",
   "name": "python3"
  },
  "language_info": {
   "codemirror_mode": {
    "name": "ipython",
    "version": 3
   },
   "file_extension": ".py",
   "mimetype": "text/x-python",
   "name": "python",
   "nbconvert_exporter": "python",
   "pygments_lexer": "ipython3",
   "version": "3.8.5"
  }
 },
 "nbformat": 4,
 "nbformat_minor": 4
}
