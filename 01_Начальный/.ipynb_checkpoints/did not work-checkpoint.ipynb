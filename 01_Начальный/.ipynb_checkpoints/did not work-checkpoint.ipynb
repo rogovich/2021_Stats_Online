{
 "cells": [
  {
   "cell_type": "markdown",
   "metadata": {},
   "source": [
    "# Начало работы с датасетом"
   ]
  },
  {
   "cell_type": "code",
   "execution_count": 2,
   "metadata": {},
   "outputs": [],
   "source": [
    "import pandas as pd\n",
    "intakes = pd.read_csv('Data/Intakes_2019-2021.csv', sep=';')\n",
    "outcomes = pd.read_csv('Data/Outcomes_2019-2021.csv', sep=';')"
   ]
  },
  {
   "cell_type": "code",
   "execution_count": 6,
   "metadata": {},
   "outputs": [
    {
     "name": "stdout",
     "output_type": "stream",
     "text": [
      "(29568, 11)\n"
     ]
    }
   ],
   "source": [
    "print(intakes.shape)"
   ]
  },
  {
   "cell_type": "code",
   "execution_count": 3,
   "metadata": {},
   "outputs": [
    {
     "name": "stdout",
     "output_type": "stream",
     "text": [
      "<class 'pandas.core.frame.DataFrame'>\n",
      "RangeIndex: 29568 entries, 0 to 29567\n",
      "Data columns (total 11 columns):\n",
      " #   Column            Non-Null Count  Dtype \n",
      "---  ------            --------------  ----- \n",
      " 0   Animal ID         29568 non-null  object\n",
      " 1   Name              18813 non-null  object\n",
      " 2   DateTime          29568 non-null  object\n",
      " 3   Found Location    29568 non-null  object\n",
      " 4   Intake Type       29568 non-null  object\n",
      " 5   Intake Condition  29568 non-null  object\n",
      " 6   Animal Type       29568 non-null  object\n",
      " 7   Sex upon Intake   29568 non-null  object\n",
      " 8   Age upon Intake   29568 non-null  object\n",
      " 9   Breed             29568 non-null  object\n",
      " 10  Color             29568 non-null  object\n",
      "dtypes: object(11)\n",
      "memory usage: 2.5+ MB\n"
     ]
    }
   ],
   "source": [
    "intakes.info()"
   ]
  },
  {
   "cell_type": "code",
   "execution_count": 4,
   "metadata": {},
   "outputs": [
    {
     "data": {
      "text/html": [
       "<div>\n",
       "<style scoped>\n",
       "    .dataframe tbody tr th:only-of-type {\n",
       "        vertical-align: middle;\n",
       "    }\n",
       "\n",
       "    .dataframe tbody tr th {\n",
       "        vertical-align: top;\n",
       "    }\n",
       "\n",
       "    .dataframe thead th {\n",
       "        text-align: right;\n",
       "    }\n",
       "</style>\n",
       "<table border=\"1\" class=\"dataframe\">\n",
       "  <thead>\n",
       "    <tr style=\"text-align: right;\">\n",
       "      <th></th>\n",
       "      <th>Animal ID</th>\n",
       "      <th>Name</th>\n",
       "      <th>DateTime</th>\n",
       "      <th>Found Location</th>\n",
       "      <th>Intake Type</th>\n",
       "      <th>Intake Condition</th>\n",
       "      <th>Animal Type</th>\n",
       "      <th>Sex upon Intake</th>\n",
       "      <th>Age upon Intake</th>\n",
       "      <th>Breed</th>\n",
       "      <th>Color</th>\n",
       "    </tr>\n",
       "  </thead>\n",
       "  <tbody>\n",
       "    <tr>\n",
       "      <th>0</th>\n",
       "      <td>A786884</td>\n",
       "      <td>*Brock</td>\n",
       "      <td>01/03/2019 04:19:00 PM</td>\n",
       "      <td>2501 Magin Meadow Dr in Austin (TX)</td>\n",
       "      <td>Stray</td>\n",
       "      <td>Normal</td>\n",
       "      <td>Dog</td>\n",
       "      <td>Neutered Male</td>\n",
       "      <td>2 years</td>\n",
       "      <td>Beagle Mix</td>\n",
       "      <td>Tricolor</td>\n",
       "    </tr>\n",
       "    <tr>\n",
       "      <th>1</th>\n",
       "      <td>A635072</td>\n",
       "      <td>Beowulf</td>\n",
       "      <td>04/16/2019 09:53:00 AM</td>\n",
       "      <td>415 East Mary Street in Austin (TX)</td>\n",
       "      <td>Public Assist</td>\n",
       "      <td>Normal</td>\n",
       "      <td>Dog</td>\n",
       "      <td>Neutered Male</td>\n",
       "      <td>6 years</td>\n",
       "      <td>Great Dane Mix</td>\n",
       "      <td>Black</td>\n",
       "    </tr>\n",
       "    <tr>\n",
       "      <th>2</th>\n",
       "      <td>A818975</td>\n",
       "      <td>NaN</td>\n",
       "      <td>06/18/2020 02:53:00 PM</td>\n",
       "      <td>Braker Lane And Metric in Travis (TX)</td>\n",
       "      <td>Stray</td>\n",
       "      <td>Normal</td>\n",
       "      <td>Cat</td>\n",
       "      <td>Intact Male</td>\n",
       "      <td>4 weeks</td>\n",
       "      <td>Domestic Shorthair</td>\n",
       "      <td>Cream Tabby</td>\n",
       "    </tr>\n",
       "    <tr>\n",
       "      <th>3</th>\n",
       "      <td>A790209</td>\n",
       "      <td>Ziggy</td>\n",
       "      <td>03/06/2019 02:31:00 PM</td>\n",
       "      <td>4424 S Mopac Expwy in Austin (TX)</td>\n",
       "      <td>Public Assist</td>\n",
       "      <td>Normal</td>\n",
       "      <td>Cat</td>\n",
       "      <td>Intact Female</td>\n",
       "      <td>4 years</td>\n",
       "      <td>Domestic Shorthair Mix</td>\n",
       "      <td>Brown Tabby/White</td>\n",
       "    </tr>\n",
       "    <tr>\n",
       "      <th>4</th>\n",
       "      <td>A754715</td>\n",
       "      <td>Rheia</td>\n",
       "      <td>07/29/2019 05:19:00 PM</td>\n",
       "      <td>Austin (TX)</td>\n",
       "      <td>Owner Surrender</td>\n",
       "      <td>Normal</td>\n",
       "      <td>Dog</td>\n",
       "      <td>Spayed Female</td>\n",
       "      <td>2 years</td>\n",
       "      <td>Labrador Retriever Mix</td>\n",
       "      <td>Black/White</td>\n",
       "    </tr>\n",
       "  </tbody>\n",
       "</table>\n",
       "</div>"
      ],
      "text/plain": [
       "  Animal ID     Name                DateTime  \\\n",
       "0   A786884   *Brock  01/03/2019 04:19:00 PM   \n",
       "1   A635072  Beowulf  04/16/2019 09:53:00 AM   \n",
       "2   A818975      NaN  06/18/2020 02:53:00 PM   \n",
       "3   A790209    Ziggy  03/06/2019 02:31:00 PM   \n",
       "4   A754715    Rheia  07/29/2019 05:19:00 PM   \n",
       "\n",
       "                          Found Location      Intake Type Intake Condition  \\\n",
       "0    2501 Magin Meadow Dr in Austin (TX)            Stray           Normal   \n",
       "1    415 East Mary Street in Austin (TX)    Public Assist           Normal   \n",
       "2  Braker Lane And Metric in Travis (TX)            Stray           Normal   \n",
       "3      4424 S Mopac Expwy in Austin (TX)    Public Assist           Normal   \n",
       "4                            Austin (TX)  Owner Surrender           Normal   \n",
       "\n",
       "  Animal Type Sex upon Intake Age upon Intake                   Breed  \\\n",
       "0         Dog   Neutered Male         2 years              Beagle Mix   \n",
       "1         Dog   Neutered Male         6 years          Great Dane Mix   \n",
       "2         Cat     Intact Male         4 weeks      Domestic Shorthair   \n",
       "3         Cat   Intact Female         4 years  Domestic Shorthair Mix   \n",
       "4         Dog   Spayed Female         2 years  Labrador Retriever Mix   \n",
       "\n",
       "               Color  \n",
       "0           Tricolor  \n",
       "1              Black  \n",
       "2        Cream Tabby  \n",
       "3  Brown Tabby/White  \n",
       "4        Black/White  "
      ]
     },
     "execution_count": 4,
     "metadata": {},
     "output_type": "execute_result"
    }
   ],
   "source": [
    "intakes.head()"
   ]
  },
  {
   "cell_type": "code",
   "execution_count": 7,
   "metadata": {},
   "outputs": [
    {
     "name": "stdout",
     "output_type": "stream",
     "text": [
      "(29750, 11)\n"
     ]
    }
   ],
   "source": [
    "print(outcomes.shape)"
   ]
  },
  {
   "cell_type": "code",
   "execution_count": 8,
   "metadata": {},
   "outputs": [
    {
     "name": "stdout",
     "output_type": "stream",
     "text": [
      "<class 'pandas.core.frame.DataFrame'>\n",
      "RangeIndex: 29750 entries, 0 to 29749\n",
      "Data columns (total 11 columns):\n",
      " #   Column            Non-Null Count  Dtype \n",
      "---  ------            --------------  ----- \n",
      " 0   Animal ID         29750 non-null  object\n",
      " 1   Name              19120 non-null  object\n",
      " 2   DateTime          29750 non-null  object\n",
      " 3   Date of Birth     29750 non-null  object\n",
      " 4   Outcome Type      29730 non-null  object\n",
      " 5   Outcome Subtype   14986 non-null  object\n",
      " 6   Animal Type       29750 non-null  object\n",
      " 7   Sex upon Outcome  29750 non-null  object\n",
      " 8   Age upon Outcome  29750 non-null  object\n",
      " 9   Breed             29750 non-null  object\n",
      " 10  Color             29750 non-null  object\n",
      "dtypes: object(11)\n",
      "memory usage: 2.5+ MB\n"
     ]
    }
   ],
   "source": [
    "outcomes.info()"
   ]
  },
  {
   "cell_type": "code",
   "execution_count": 9,
   "metadata": {},
   "outputs": [
    {
     "data": {
      "text/html": [
       "<div>\n",
       "<style scoped>\n",
       "    .dataframe tbody tr th:only-of-type {\n",
       "        vertical-align: middle;\n",
       "    }\n",
       "\n",
       "    .dataframe tbody tr th {\n",
       "        vertical-align: top;\n",
       "    }\n",
       "\n",
       "    .dataframe thead th {\n",
       "        text-align: right;\n",
       "    }\n",
       "</style>\n",
       "<table border=\"1\" class=\"dataframe\">\n",
       "  <thead>\n",
       "    <tr style=\"text-align: right;\">\n",
       "      <th></th>\n",
       "      <th>Animal ID</th>\n",
       "      <th>Name</th>\n",
       "      <th>DateTime</th>\n",
       "      <th>Date of Birth</th>\n",
       "      <th>Outcome Type</th>\n",
       "      <th>Outcome Subtype</th>\n",
       "      <th>Animal Type</th>\n",
       "      <th>Sex upon Outcome</th>\n",
       "      <th>Age upon Outcome</th>\n",
       "      <th>Breed</th>\n",
       "      <th>Color</th>\n",
       "    </tr>\n",
       "  </thead>\n",
       "  <tbody>\n",
       "    <tr>\n",
       "      <th>0</th>\n",
       "      <td>A794011</td>\n",
       "      <td>Chunk</td>\n",
       "      <td>05/08/2019 06:20:00 PM</td>\n",
       "      <td>05/02/2017</td>\n",
       "      <td>Rto-Adopt</td>\n",
       "      <td>NaN</td>\n",
       "      <td>Cat</td>\n",
       "      <td>Neutered Male</td>\n",
       "      <td>2 years</td>\n",
       "      <td>Domestic Shorthair Mix</td>\n",
       "      <td>Brown Tabby/White</td>\n",
       "    </tr>\n",
       "    <tr>\n",
       "      <th>1</th>\n",
       "      <td>A821648</td>\n",
       "      <td>NaN</td>\n",
       "      <td>08/16/2020 11:38:00 AM</td>\n",
       "      <td>08/16/2019</td>\n",
       "      <td>Euthanasia</td>\n",
       "      <td>NaN</td>\n",
       "      <td>Other</td>\n",
       "      <td>Unknown</td>\n",
       "      <td>1 year</td>\n",
       "      <td>Raccoon</td>\n",
       "      <td>Gray</td>\n",
       "    </tr>\n",
       "    <tr>\n",
       "      <th>2</th>\n",
       "      <td>A659412</td>\n",
       "      <td>Princess</td>\n",
       "      <td>10/05/2020 02:37:00 PM</td>\n",
       "      <td>03/24/2013</td>\n",
       "      <td>Adoption</td>\n",
       "      <td>NaN</td>\n",
       "      <td>Dog</td>\n",
       "      <td>Spayed Female</td>\n",
       "      <td>7 years</td>\n",
       "      <td>Chihuahua Shorthair Mix</td>\n",
       "      <td>Brown</td>\n",
       "    </tr>\n",
       "    <tr>\n",
       "      <th>3</th>\n",
       "      <td>A814515</td>\n",
       "      <td>Quentin</td>\n",
       "      <td>05/06/2020 07:59:00 AM</td>\n",
       "      <td>03/01/2018</td>\n",
       "      <td>Adoption</td>\n",
       "      <td>Foster</td>\n",
       "      <td>Dog</td>\n",
       "      <td>Neutered Male</td>\n",
       "      <td>2 years</td>\n",
       "      <td>American Foxhound/Labrador Retriever</td>\n",
       "      <td>White/Brown</td>\n",
       "    </tr>\n",
       "    <tr>\n",
       "      <th>4</th>\n",
       "      <td>A803149</td>\n",
       "      <td>*Birch</td>\n",
       "      <td>08/31/2019 04:26:00 PM</td>\n",
       "      <td>08/08/2019</td>\n",
       "      <td>Transfer</td>\n",
       "      <td>Partner</td>\n",
       "      <td>Cat</td>\n",
       "      <td>Intact Male</td>\n",
       "      <td>3 weeks</td>\n",
       "      <td>Domestic Shorthair</td>\n",
       "      <td>Brown Tabby</td>\n",
       "    </tr>\n",
       "  </tbody>\n",
       "</table>\n",
       "</div>"
      ],
      "text/plain": [
       "  Animal ID      Name                DateTime Date of Birth Outcome Type  \\\n",
       "0   A794011     Chunk  05/08/2019 06:20:00 PM    05/02/2017    Rto-Adopt   \n",
       "1   A821648       NaN  08/16/2020 11:38:00 AM    08/16/2019   Euthanasia   \n",
       "2   A659412  Princess  10/05/2020 02:37:00 PM    03/24/2013     Adoption   \n",
       "3   A814515   Quentin  05/06/2020 07:59:00 AM    03/01/2018     Adoption   \n",
       "4   A803149    *Birch  08/31/2019 04:26:00 PM    08/08/2019     Transfer   \n",
       "\n",
       "  Outcome Subtype Animal Type Sex upon Outcome Age upon Outcome  \\\n",
       "0             NaN         Cat    Neutered Male          2 years   \n",
       "1             NaN       Other          Unknown           1 year   \n",
       "2             NaN         Dog    Spayed Female          7 years   \n",
       "3          Foster         Dog    Neutered Male          2 years   \n",
       "4         Partner         Cat      Intact Male          3 weeks   \n",
       "\n",
       "                                  Breed              Color  \n",
       "0                Domestic Shorthair Mix  Brown Tabby/White  \n",
       "1                               Raccoon               Gray  \n",
       "2               Chihuahua Shorthair Mix              Brown  \n",
       "3  American Foxhound/Labrador Retriever        White/Brown  \n",
       "4                    Domestic Shorthair        Brown Tabby  "
      ]
     },
     "execution_count": 9,
     "metadata": {},
     "output_type": "execute_result"
    }
   ],
   "source": [
    "outcomes.head()"
   ]
  },
  {
   "cell_type": "markdown",
   "metadata": {},
   "source": [
    "```Python \n",
    "pd.merge(\n",
    "    left,\n",
    "    right,\n",
    "    how=\"inner\", # left, outer, right\n",
    "    on=None,\n",
    "    left_on=None,\n",
    "    right_on=None,\n",
    "    left_index=False,\n",
    "    right_index=False,\n",
    "    sort=True,\n",
    "    suffixes=(\"_x\", \"_y\"),\n",
    ")\n",
    "```"
   ]
  },
  {
   "cell_type": "code",
   "execution_count": 11,
   "metadata": {},
   "outputs": [
    {
     "data": {
      "text/html": [
       "<div>\n",
       "<style scoped>\n",
       "    .dataframe tbody tr th:only-of-type {\n",
       "        vertical-align: middle;\n",
       "    }\n",
       "\n",
       "    .dataframe tbody tr th {\n",
       "        vertical-align: top;\n",
       "    }\n",
       "\n",
       "    .dataframe thead th {\n",
       "        text-align: right;\n",
       "    }\n",
       "</style>\n",
       "<table border=\"1\" class=\"dataframe\">\n",
       "  <thead>\n",
       "    <tr style=\"text-align: right;\">\n",
       "      <th></th>\n",
       "      <th>Animal ID</th>\n",
       "      <th>DateTime</th>\n",
       "      <th>Date of Birth</th>\n",
       "      <th>Outcome Type</th>\n",
       "      <th>Sex upon Outcome</th>\n",
       "      <th>Age upon Outcome</th>\n",
       "    </tr>\n",
       "  </thead>\n",
       "  <tbody>\n",
       "    <tr>\n",
       "      <th>0</th>\n",
       "      <td>A794011</td>\n",
       "      <td>05/08/2019 06:20:00 PM</td>\n",
       "      <td>05/02/2017</td>\n",
       "      <td>Rto-Adopt</td>\n",
       "      <td>Neutered Male</td>\n",
       "      <td>2 years</td>\n",
       "    </tr>\n",
       "    <tr>\n",
       "      <th>1</th>\n",
       "      <td>A821648</td>\n",
       "      <td>08/16/2020 11:38:00 AM</td>\n",
       "      <td>08/16/2019</td>\n",
       "      <td>Euthanasia</td>\n",
       "      <td>Unknown</td>\n",
       "      <td>1 year</td>\n",
       "    </tr>\n",
       "    <tr>\n",
       "      <th>2</th>\n",
       "      <td>A659412</td>\n",
       "      <td>10/05/2020 02:37:00 PM</td>\n",
       "      <td>03/24/2013</td>\n",
       "      <td>Adoption</td>\n",
       "      <td>Spayed Female</td>\n",
       "      <td>7 years</td>\n",
       "    </tr>\n",
       "    <tr>\n",
       "      <th>3</th>\n",
       "      <td>A814515</td>\n",
       "      <td>05/06/2020 07:59:00 AM</td>\n",
       "      <td>03/01/2018</td>\n",
       "      <td>Adoption</td>\n",
       "      <td>Neutered Male</td>\n",
       "      <td>2 years</td>\n",
       "    </tr>\n",
       "    <tr>\n",
       "      <th>4</th>\n",
       "      <td>A803149</td>\n",
       "      <td>08/31/2019 04:26:00 PM</td>\n",
       "      <td>08/08/2019</td>\n",
       "      <td>Transfer</td>\n",
       "      <td>Intact Male</td>\n",
       "      <td>3 weeks</td>\n",
       "    </tr>\n",
       "  </tbody>\n",
       "</table>\n",
       "</div>"
      ],
      "text/plain": [
       "  Animal ID                DateTime Date of Birth Outcome Type  \\\n",
       "0   A794011  05/08/2019 06:20:00 PM    05/02/2017    Rto-Adopt   \n",
       "1   A821648  08/16/2020 11:38:00 AM    08/16/2019   Euthanasia   \n",
       "2   A659412  10/05/2020 02:37:00 PM    03/24/2013     Adoption   \n",
       "3   A814515  05/06/2020 07:59:00 AM    03/01/2018     Adoption   \n",
       "4   A803149  08/31/2019 04:26:00 PM    08/08/2019     Transfer   \n",
       "\n",
       "  Sex upon Outcome Age upon Outcome  \n",
       "0    Neutered Male          2 years  \n",
       "1          Unknown           1 year  \n",
       "2    Spayed Female          7 years  \n",
       "3    Neutered Male          2 years  \n",
       "4      Intact Male          3 weeks  "
      ]
     },
     "execution_count": 11,
     "metadata": {},
     "output_type": "execute_result"
    }
   ],
   "source": [
    "outcomes_sub = outcomes[['Animal ID', 'DateTime', 'Date of Birth', 'Outcome Type', 'Sex upon Outcome', 'Age upon Outcome']]\n",
    "outcomes_sub.head()"
   ]
  },
  {
   "cell_type": "code",
   "execution_count": 12,
   "metadata": {},
   "outputs": [],
   "source": [
    "data = intakes.merge(outcomes_sub, how='left', on='Animal ID', suffixes=(\" Intake\", \" Outcome\"))"
   ]
  },
  {
   "cell_type": "code",
   "execution_count": 13,
   "metadata": {},
   "outputs": [
    {
     "name": "stdout",
     "output_type": "stream",
     "text": [
      "<class 'pandas.core.frame.DataFrame'>\n",
      "Int64Index: 29568 entries, 0 to 29567\n",
      "Data columns (total 16 columns):\n",
      " #   Column            Non-Null Count  Dtype \n",
      "---  ------            --------------  ----- \n",
      " 0   Animal ID         29568 non-null  object\n",
      " 1   Name              18813 non-null  object\n",
      " 2   DateTime Intake   29568 non-null  object\n",
      " 3   Found Location    29568 non-null  object\n",
      " 4   Intake Type       29568 non-null  object\n",
      " 5   Intake Condition  29568 non-null  object\n",
      " 6   Animal Type       29568 non-null  object\n",
      " 7   Sex upon Intake   29568 non-null  object\n",
      " 8   Age upon Intake   29568 non-null  object\n",
      " 9   Breed             29568 non-null  object\n",
      " 10  Color             29568 non-null  object\n",
      " 11  DateTime Outcome  28947 non-null  object\n",
      " 12  Date of Birth     28947 non-null  object\n",
      " 13  Outcome Type      28927 non-null  object\n",
      " 14  Sex upon Outcome  28947 non-null  object\n",
      " 15  Age upon Outcome  28947 non-null  object\n",
      "dtypes: object(16)\n",
      "memory usage: 3.8+ MB\n"
     ]
    }
   ],
   "source": [
    "data.info()"
   ]
  },
  {
   "cell_type": "code",
   "execution_count": 15,
   "metadata": {},
   "outputs": [],
   "source": [
    "data['DateTime Intake'] = pd.to_datetime(data['DateTime Intake'])\n",
    "data['DateTime Outcome'] = pd.to_datetime(data['DateTime Outcome'])"
   ]
  },
  {
   "cell_type": "code",
   "execution_count": 16,
   "metadata": {},
   "outputs": [
    {
     "name": "stdout",
     "output_type": "stream",
     "text": [
      "<class 'pandas.core.frame.DataFrame'>\n",
      "Int64Index: 29568 entries, 0 to 29567\n",
      "Data columns (total 16 columns):\n",
      " #   Column            Non-Null Count  Dtype         \n",
      "---  ------            --------------  -----         \n",
      " 0   Animal ID         29568 non-null  object        \n",
      " 1   Name              18813 non-null  object        \n",
      " 2   DateTime Intake   29568 non-null  datetime64[ns]\n",
      " 3   Found Location    29568 non-null  object        \n",
      " 4   Intake Type       29568 non-null  object        \n",
      " 5   Intake Condition  29568 non-null  object        \n",
      " 6   Animal Type       29568 non-null  object        \n",
      " 7   Sex upon Intake   29568 non-null  object        \n",
      " 8   Age upon Intake   29568 non-null  object        \n",
      " 9   Breed             29568 non-null  object        \n",
      " 10  Color             29568 non-null  object        \n",
      " 11  DateTime Outcome  28947 non-null  datetime64[ns]\n",
      " 12  Date of Birth     28947 non-null  object        \n",
      " 13  Outcome Type      28927 non-null  object        \n",
      " 14  Sex upon Outcome  28947 non-null  object        \n",
      " 15  Age upon Outcome  28947 non-null  object        \n",
      "dtypes: datetime64[ns](2), object(14)\n",
      "memory usage: 3.8+ MB\n"
     ]
    }
   ],
   "source": [
    "data.info()"
   ]
  },
  {
   "cell_type": "code",
   "execution_count": 25,
   "metadata": {},
   "outputs": [
    {
     "data": {
      "text/plain": [
       "0        2019\n",
       "1        2019\n",
       "2        2020\n",
       "3        2019\n",
       "4        2019\n",
       "         ... \n",
       "29563    2021\n",
       "29564    2021\n",
       "29565    2021\n",
       "29566    2021\n",
       "29567    2021\n",
       "Name: DateTime Intake, Length: 29568, dtype: int64"
      ]
     },
     "execution_count": 25,
     "metadata": {},
     "output_type": "execute_result"
    }
   ],
   "source": [
    "data['DateTime Intake'].dt.year"
   ]
  },
  {
   "cell_type": "code",
   "execution_count": 26,
   "metadata": {},
   "outputs": [
    {
     "data": {
      "text/plain": [
       "0        1\n",
       "1        4\n",
       "2        6\n",
       "3        3\n",
       "4        7\n",
       "        ..\n",
       "29563    4\n",
       "29564    4\n",
       "29565    4\n",
       "29566    4\n",
       "29567    5\n",
       "Name: DateTime Intake, Length: 29568, dtype: int64"
      ]
     },
     "execution_count": 26,
     "metadata": {},
     "output_type": "execute_result"
    }
   ],
   "source": [
    "data['DateTime Intake'].dt.month"
   ]
  },
  {
   "cell_type": "code",
   "execution_count": 27,
   "metadata": {},
   "outputs": [
    {
     "data": {
      "text/plain": [
       "0         3\n",
       "1        16\n",
       "2        18\n",
       "3         6\n",
       "4        29\n",
       "         ..\n",
       "29563    29\n",
       "29564    26\n",
       "29565    26\n",
       "29566    26\n",
       "29567     3\n",
       "Name: DateTime Intake, Length: 29568, dtype: int64"
      ]
     },
     "execution_count": 27,
     "metadata": {},
     "output_type": "execute_result"
    }
   ],
   "source": [
    "data['DateTime Intake'].dt.day"
   ]
  },
  {
   "cell_type": "code",
   "execution_count": 17,
   "metadata": {},
   "outputs": [],
   "source": [
    "data['Time in Shelter'] = data['DateTime Outcome'] - data['DateTime Intake']"
   ]
  },
  {
   "cell_type": "code",
   "execution_count": 35,
   "metadata": {},
   "outputs": [
    {
     "name": "stdout",
     "output_type": "stream",
     "text": [
      "<class 'pandas.core.frame.DataFrame'>\n",
      "Int64Index: 29568 entries, 0 to 29567\n",
      "Data columns (total 17 columns):\n",
      " #   Column            Non-Null Count  Dtype          \n",
      "---  ------            --------------  -----          \n",
      " 0   Animal ID         29568 non-null  object         \n",
      " 1   Name              18813 non-null  object         \n",
      " 2   DateTime Intake   29568 non-null  datetime64[ns] \n",
      " 3   Found Location    29568 non-null  object         \n",
      " 4   Intake Type       29568 non-null  object         \n",
      " 5   Intake Condition  29568 non-null  object         \n",
      " 6   Animal Type       29568 non-null  object         \n",
      " 7   Sex upon Intake   29568 non-null  object         \n",
      " 8   Age upon Intake   29568 non-null  object         \n",
      " 9   Breed             29568 non-null  object         \n",
      " 10  Color             29568 non-null  object         \n",
      " 11  DateTime Outcome  28947 non-null  datetime64[ns] \n",
      " 12  Date of Birth     28947 non-null  object         \n",
      " 13  Outcome Type      28927 non-null  object         \n",
      " 14  Sex upon Outcome  28947 non-null  object         \n",
      " 15  Age upon Outcome  28947 non-null  object         \n",
      " 16  Time in Shelter   28947 non-null  timedelta64[ns]\n",
      "dtypes: datetime64[ns](2), object(14), timedelta64[ns](1)\n",
      "memory usage: 5.3+ MB\n"
     ]
    }
   ],
   "source": [
    "data.info()"
   ]
  },
  {
   "cell_type": "code",
   "execution_count": 81,
   "metadata": {},
   "outputs": [],
   "source": [
    "data['Time in Shelter'] = data['Time in Shelter'].dt.components['days']"
   ]
  },
  {
   "cell_type": "code",
   "execution_count": 82,
   "metadata": {},
   "outputs": [
    {
     "data": {
      "text/plain": [
       "<AxesSubplot:>"
      ]
     },
     "execution_count": 82,
     "metadata": {},
     "output_type": "execute_result"
    },
    {
     "data": {
      "image/png": "[encoded data removed]",
      "text/plain": [
       "<Figure size 432x288 with 1 Axes>"
      ]
     },
     "metadata": {
      "needs_background": "light"
     },
     "output_type": "display_data"
    }
   ],
   "source": [
    "total_time.hist(bins=10)"
   ]
  },
  {
   "cell_type": "code",
   "execution_count": 78,
   "metadata": {},
   "outputs": [],
   "source": [
    "def age_converter_days(age):\n",
    "    age_digit = int(age.split()[0])\n",
    "    if 'years' in age:\n",
    "        return age_digit * 365\n",
    "    elif 'month' in age:\n",
    "        return age_digit * 30\n",
    "    elif 'week' in age:\n",
    "        return age_digit * 7\n",
    "    else:\n",
    "        return age_digit"
   ]
  },
  {
   "cell_type": "code",
   "execution_count": 80,
   "metadata": {},
   "outputs": [],
   "source": [
    "data['Age in days'] = data['Age upon Intake'].apply(age_converter_days)"
   ]
  },
  {
   "cell_type": "code",
   "execution_count": 84,
   "metadata": {},
   "outputs": [
    {
     "data": {
      "text/plain": [
       "0.019490332244917405"
      ]
     },
     "execution_count": 84,
     "metadata": {},
     "output_type": "execute_result"
    }
   ],
   "source": [
    "data['Age in days'].corr(data['Time in Shelter'])"
   ]
  },
  {
   "cell_type": "code",
   "execution_count": null,
   "metadata": {},
   "outputs": [],
   "source": []
  }
 ],
 "metadata": {
  "kernelspec": {
   "display_name": "Python 3",
   "language": "python",
   "name": "python3"
  },
  "language_info": {
   "codemirror_mode": {
    "name": "ipython",
    "version": 3
   },
   "file_extension": ".py",
   "mimetype": "text/x-python",
   "name": "python",
   "nbconvert_exporter": "python",
   "pygments_lexer": "ipython3",
   "version": "3.8.5"
  }
 },
 "nbformat": 4,
 "nbformat_minor": 4
}
