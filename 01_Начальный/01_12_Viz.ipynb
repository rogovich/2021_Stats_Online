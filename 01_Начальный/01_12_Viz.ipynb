{
 "cells": [
  {
   "cell_type": "markdown",
   "metadata": {},
   "source": [
    "# Визуализация данных"
   ]
  },
  {
   "cell_type": "code",
   "execution_count": null,
   "metadata": {},
   "outputs": [],
   "source": [
    "import pandas as pd\n",
    "import numpy as np\n",
    "import matplotlib.pyplot as plt\n",
    "bikes = pd.read_pickle('Data/BikesDataImputed.pkl')\n",
    "bikes.head()"
   ]
  },
  {
   "cell_type": "code",
   "execution_count": null,
   "metadata": {},
   "outputs": [],
   "source": [
    "bikes_sum = bikes.groupby(bikes['Date'].dt.isocalendar().week)['Rental Count'].sum()\n",
    "bikes_sum"
   ]
  },
  {
   "cell_type": "code",
   "execution_count": null,
   "metadata": {},
   "outputs": [],
   "source": [
    "fig, ax = plt.subplots(figsize=(10,8))\n",
    "ax.plot(bikes_sum)"
   ]
  },
  {
   "cell_type": "code",
   "execution_count": null,
   "metadata": {},
   "outputs": [],
   "source": [
    "bikes.groupby(['Seasons', 'Date'])['Rental Count'].sum()"
   ]
  },
  {
   "cell_type": "code",
   "execution_count": null,
   "metadata": {},
   "outputs": [],
   "source": [
    "fig, ax = plt.subplots(figsize=(20,8))\n",
    "ax.plot(bikes.groupby(['Seasons', 'Date'])['Rental Count'].sum().loc['Autumn'])\n",
    "ax.plot(bikes.groupby(['Seasons', 'Date'])['Rental Count'].sum().loc['Winter'])\n",
    "ax.plot(bikes.groupby(['Seasons', 'Date'])['Rental Count'].sum().loc['Spring'])\n",
    "ax.plot(bikes.groupby(['Seasons', 'Date'])['Rental Count'].sum().loc['Summer'])"
   ]
  },
  {
   "cell_type": "code",
   "execution_count": null,
   "metadata": {},
   "outputs": [],
   "source": [
    "bikes['Temperature'].describe()"
   ]
  },
  {
   "cell_type": "code",
   "execution_count": null,
   "metadata": {},
   "outputs": [],
   "source": [
    "fig, ax = plt.subplots(2,2, figsize=(20,10))\n",
    "\n",
    "ax[0][0].plot(bikes.groupby(['Seasons', 'Date'])['Temperature'].mean().loc['Autumn'], c='#ff8c69')\n",
    "ax[0][1].plot(bikes.groupby(['Seasons', 'Date'])['Temperature'].mean().loc['Winter'], c='#ff8c69')\n",
    "ax[1][0].plot(bikes.groupby(['Seasons', 'Date'])['Temperature'].mean().loc['Spring'], c='#ff8c69')\n",
    "ax[1][1].plot(bikes.groupby(['Seasons', 'Date'])['Temperature'].mean().loc['Summer'], c='#ff8c69')\n",
    "\n",
    "for axis,season in zip(ax.ravel(), ['Autumn', 'Winter', 'Spring', 'Summer']):\n",
    "    axis.set_xlabel('Date', fontsize=14)\n",
    "    axis.set_ylabel('Temperature', fontsize=14)\n",
    "    axis.spines['right'].set_visible(False)\n",
    "    axis.spines['top'].set_visible(False)\n",
    "    axis.xaxis.set_tick_params(width=0.2)\n",
    "    axis.yaxis.set_tick_params(width=0.2)\n",
    "    axis.set_ylim(-20, 39)\n",
    "    axis.axhline(12.9, c='grey', lw=0.25)\n",
    "    axis.legend([season, 'Annual average'], frameon=False, loc=2)\n",
    "    for spine in ['bottom','left']:\n",
    "        axis.spines[spine].set_linewidth(0.2)\n",
    "        \n",
    "fig.suptitle('Temerature daily means by season', fontsize=20)\n",
    "fig.savefig('temps.pdf')\n",
    "fig.savefig('temps.png', dpi=100)"
   ]
  },
  {
   "cell_type": "code",
   "execution_count": null,
   "metadata": {},
   "outputs": [],
   "source": [
    "month_weather = bikes.groupby(bikes['Date'].dt.month)['Rental Count'].mean()\n",
    "month_weather"
   ]
  },
  {
   "cell_type": "code",
   "execution_count": null,
   "metadata": {},
   "outputs": [],
   "source": [
    "fig, ax = plt.subplots(figsize=(20,8))\n",
    "\n",
    "ax.bar(month_weather.index, month_weather)"
   ]
  },
  {
   "cell_type": "code",
   "execution_count": null,
   "metadata": {},
   "outputs": [],
   "source": [
    "gapminder = pd.read_csv('https://raw.githubusercontent.com/rogovich/Data/master/data/gapminderData.csv')\n",
    "gapminder.head()"
   ]
  },
  {
   "cell_type": "code",
   "execution_count": null,
   "metadata": {},
   "outputs": [],
   "source": [
    "gapminder.shape"
   ]
  },
  {
   "cell_type": "code",
   "execution_count": null,
   "metadata": {},
   "outputs": [],
   "source": [
    "gapminder.year.values  # смотрим, какие значения есть в колонке год"
   ]
  },
  {
   "cell_type": "code",
   "execution_count": null,
   "metadata": {},
   "outputs": [],
   "source": [
    "gapminder['continent'] = pd.Categorical(gapminder['continent'])"
   ]
  },
  {
   "cell_type": "code",
   "execution_count": null,
   "metadata": {},
   "outputs": [],
   "source": [
    "gapminder['continent'].cat.codes.head()  # теперь у нас есть такая числовая разметка категорий, которую мы сможем скормить переменной графика"
   ]
  },
  {
   "cell_type": "code",
   "execution_count": null,
   "metadata": {},
   "outputs": [],
   "source": [
    "plt.hist(gapminder['gdpPercap'])"
   ]
  },
  {
   "cell_type": "code",
   "execution_count": null,
   "metadata": {},
   "outputs": [],
   "source": [
    "plt.hist(gapminder['gdpPercap'])\n",
    "plt.xscale('log')\n"
   ]
  },
  {
   "cell_type": "markdown",
   "metadata": {},
   "source": [
    "**Пример без лог-преобразования шкалы x**"
   ]
  },
  {
   "cell_type": "code",
   "execution_count": null,
   "metadata": {},
   "outputs": [],
   "source": [
    "tmp = gapminder[gapminder.year == 1952 ]\n",
    "plt.scatter(tmp['gdpPercap'], tmp['lifeExp'], s = tmp['pop']/200000 , \n",
    "            c=tmp['continent'].cat.codes, cmap= \"Accent\", alpha=0.5, \n",
    "            edgecolors=\"white\", linewidth=2) # добавили два новых аргумента - цвет и обводка границ точек.\n",
    "plt.xlabel(\"GDP per Capita\")\n",
    "plt.ylabel(\"Life Expectancy\")\n",
    "plt.title(\"Year: \"+str(1942) )  # заголовок графика\n",
    "plt.ylim(0, 90)  # давайте еще добавим лимиты шкал, чтобы шкала не менялась, когда мы будем строить графики для других годов\n",
    "plt.xlim(0,100000) "
   ]
  },
  {
   "cell_type": "code",
   "execution_count": null,
   "metadata": {},
   "outputs": [],
   "source": [
    "tmp = gapminder[gapminder.year == 1952 ]\n",
    "plt.scatter(tmp['gdpPercap'], tmp['lifeExp'], s = tmp['pop']/200000 , \n",
    "            c=tmp['continent'].cat.codes, cmap= \"Accent\", alpha=0.5, edgecolors=\"white\", linewidth=2)  \n",
    "plt.xlabel(\"GDP per Capita\")\n",
    "plt.ylabel(\"Life Expectancy\")\n",
    "plt.title(\"Year: \"+str(1942) ) \n",
    "plt.ylim(0, 90)\n",
    "plt.xlim(100,100000) # меняем лимиты для лог-шкалы"
   ]
  },
  {
   "cell_type": "code",
   "execution_count": null,
   "metadata": {
    "scrolled": true
   },
   "outputs": [],
   "source": [
    "for i in gapminder.year.unique(): # пишем цикл, который проходит по всем уникальным значениям в колонке год\n",
    " \n",
    "    # создаем фигуру\n",
    "    fig = plt.figure(figsize=(12, 6))\n",
    "\n",
    "    tmp = gapminder[gapminder.year == i]  # создаем срез датафрейма для года на данной итерации\n",
    "    plt.scatter(tmp['gdpPercap'], tmp['lifeExp'], s=tmp['pop']/200000 , \n",
    "                c=tmp['continent'].cat.codes, cmap=\"Accent\", alpha=0.6, edgecolors=\"white\", linewidth=2)\n",
    "    \n",
    "    plt.xscale('log')\n",
    "    plt.xlabel(\"GDP per Capita\")\n",
    "    plt.ylabel(\"Life Expectancy\")\n",
    "    plt.title(\"Year: \"+str(i) )\n",
    "    plt.ylim(0, 90)\n",
    "    plt.xlim(100,100000)\n",
    "    \n",
    "       \n",
    "    # Сохраняем каждый график под уникальным именем.\n",
    "    filename='Gapminder_step'+str(i)+'.png'\n",
    "    plt.savefig(filename, dpi=96)\n"
   ]
  }
 ],
 "metadata": {
  "kernelspec": {
   "display_name": "Python 3",
   "language": "python",
   "name": "python3"
  },
  "language_info": {
   "codemirror_mode": {
    "name": "ipython",
    "version": 3
   },
   "file_extension": ".py",
   "mimetype": "text/x-python",
   "name": "python",
   "nbconvert_exporter": "python",
   "pygments_lexer": "ipython3",
   "version": "3.8.5"
  }
 },
 "nbformat": 4,
 "nbformat_minor": 4
}
