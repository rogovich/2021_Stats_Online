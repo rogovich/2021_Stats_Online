{
 "cells": [
  {
   "cell_type": "markdown",
   "metadata": {},
   "source": [
    "# Создаем новые переменные"
   ]
  },
  {
   "cell_type": "code",
   "execution_count": 51,
   "metadata": {},
   "outputs": [
    {
     "data": {
      "text/html": [
       "<div>\n",
       "<style scoped>\n",
       "    .dataframe tbody tr th:only-of-type {\n",
       "        vertical-align: middle;\n",
       "    }\n",
       "\n",
       "    .dataframe tbody tr th {\n",
       "        vertical-align: top;\n",
       "    }\n",
       "\n",
       "    .dataframe thead th {\n",
       "        text-align: right;\n",
       "    }\n",
       "</style>\n",
       "<table border=\"1\" class=\"dataframe\">\n",
       "  <thead>\n",
       "    <tr style=\"text-align: right;\">\n",
       "      <th></th>\n",
       "      <th>Date</th>\n",
       "      <th>Hour</th>\n",
       "      <th>Temperature</th>\n",
       "      <th>Humidity</th>\n",
       "      <th>Wind speed</th>\n",
       "      <th>Rainfall</th>\n",
       "      <th>Snowfall</th>\n",
       "      <th>Seasons</th>\n",
       "      <th>Holiday</th>\n",
       "      <th>Functioning Day</th>\n",
       "      <th>Partner 1</th>\n",
       "      <th>Partner 2</th>\n",
       "    </tr>\n",
       "  </thead>\n",
       "  <tbody>\n",
       "    <tr>\n",
       "      <th>0</th>\n",
       "      <td>01/12/2017</td>\n",
       "      <td>0</td>\n",
       "      <td>-5.2</td>\n",
       "      <td>37</td>\n",
       "      <td>2.2</td>\n",
       "      <td>0.0</td>\n",
       "      <td>0.0</td>\n",
       "      <td>Winter</td>\n",
       "      <td>No Holiday</td>\n",
       "      <td>Yes</td>\n",
       "      <td>207</td>\n",
       "      <td>50</td>\n",
       "    </tr>\n",
       "    <tr>\n",
       "      <th>1</th>\n",
       "      <td>01/12/2017</td>\n",
       "      <td>1</td>\n",
       "      <td>-5.5</td>\n",
       "      <td>38</td>\n",
       "      <td>0.8</td>\n",
       "      <td>0.0</td>\n",
       "      <td>0.0</td>\n",
       "      <td>Winter</td>\n",
       "      <td>No Holiday</td>\n",
       "      <td>Yes</td>\n",
       "      <td>139</td>\n",
       "      <td>80</td>\n",
       "    </tr>\n",
       "    <tr>\n",
       "      <th>2</th>\n",
       "      <td>01/12/2017</td>\n",
       "      <td>2</td>\n",
       "      <td>-6.0</td>\n",
       "      <td>39</td>\n",
       "      <td>1.0</td>\n",
       "      <td>0.0</td>\n",
       "      <td>0.0</td>\n",
       "      <td>Winter</td>\n",
       "      <td>No Holiday</td>\n",
       "      <td>Yes</td>\n",
       "      <td>22</td>\n",
       "      <td>140</td>\n",
       "    </tr>\n",
       "    <tr>\n",
       "      <th>3</th>\n",
       "      <td>01/12/2017</td>\n",
       "      <td>3</td>\n",
       "      <td>-6.2</td>\n",
       "      <td>40</td>\n",
       "      <td>0.9</td>\n",
       "      <td>0.0</td>\n",
       "      <td>0.0</td>\n",
       "      <td>Winter</td>\n",
       "      <td>No Holiday</td>\n",
       "      <td>Yes</td>\n",
       "      <td>43</td>\n",
       "      <td>105</td>\n",
       "    </tr>\n",
       "    <tr>\n",
       "      <th>4</th>\n",
       "      <td>01/12/2017</td>\n",
       "      <td>4</td>\n",
       "      <td>-6.0</td>\n",
       "      <td>36</td>\n",
       "      <td>2.3</td>\n",
       "      <td>0.0</td>\n",
       "      <td>0.0</td>\n",
       "      <td>Winter</td>\n",
       "      <td>No Holiday</td>\n",
       "      <td>Yes</td>\n",
       "      <td>59</td>\n",
       "      <td>38</td>\n",
       "    </tr>\n",
       "  </tbody>\n",
       "</table>\n",
       "</div>"
      ],
      "text/plain": [
       "         Date  Hour  Temperature  Humidity  Wind speed  Rainfall  Snowfall  \\\n",
       "0  01/12/2017     0         -5.2        37         2.2       0.0       0.0   \n",
       "1  01/12/2017     1         -5.5        38         0.8       0.0       0.0   \n",
       "2  01/12/2017     2         -6.0        39         1.0       0.0       0.0   \n",
       "3  01/12/2017     3         -6.2        40         0.9       0.0       0.0   \n",
       "4  01/12/2017     4         -6.0        36         2.3       0.0       0.0   \n",
       "\n",
       "  Seasons     Holiday Functioning Day  Partner 1  Partner 2  \n",
       "0  Winter  No Holiday             Yes        207         50  \n",
       "1  Winter  No Holiday             Yes        139         80  \n",
       "2  Winter  No Holiday             Yes         22        140  \n",
       "3  Winter  No Holiday             Yes         43        105  \n",
       "4  Winter  No Holiday             Yes         59         38  "
      ]
     },
     "execution_count": 51,
     "metadata": {},
     "output_type": "execute_result"
    }
   ],
   "source": [
    "import pandas as pd\n",
    "\n",
    "bikes = pd.read_csv('Data/BikeData.csv')\n",
    "bikes.head()"
   ]
  },
  {
   "cell_type": "code",
   "execution_count": 52,
   "metadata": {},
   "outputs": [],
   "source": [
    "bikes['Rental Count'] = bikes['Partner 1'] + bikes['Partner 2']"
   ]
  },
  {
   "cell_type": "code",
   "execution_count": 53,
   "metadata": {},
   "outputs": [
    {
     "data": {
      "text/plain": [
       "0        1\n",
       "1        1\n",
       "2        1\n",
       "3        1\n",
       "4        1\n",
       "        ..\n",
       "8755    11\n",
       "8756    11\n",
       "8757    11\n",
       "8758    11\n",
       "8759    11\n",
       "Name: Date, Length: 8760, dtype: int64"
      ]
     },
     "execution_count": 53,
     "metadata": {},
     "output_type": "execute_result"
    }
   ],
   "source": [
    "pd.to_datetime(bikes['Date']).dt.month"
   ]
  },
  {
   "cell_type": "code",
   "execution_count": 54,
   "metadata": {},
   "outputs": [
    {
     "data": {
      "text/plain": [
       "0       12\n",
       "1       12\n",
       "2       12\n",
       "3       12\n",
       "4       12\n",
       "        ..\n",
       "8755    11\n",
       "8756    11\n",
       "8757    11\n",
       "8758    11\n",
       "8759    11\n",
       "Name: Date, Length: 8760, dtype: int64"
      ]
     },
     "execution_count": 54,
     "metadata": {},
     "output_type": "execute_result"
    }
   ],
   "source": [
    "pd.to_datetime(bikes['Date'], dayfirst=True).dt.month"
   ]
  },
  {
   "cell_type": "code",
   "execution_count": 55,
   "metadata": {},
   "outputs": [],
   "source": [
    "bikes['Date'] = pd.to_datetime(bikes['Date'], dayfirst=True)"
   ]
  },
  {
   "cell_type": "code",
   "execution_count": 56,
   "metadata": {},
   "outputs": [
    {
     "name": "stdout",
     "output_type": "stream",
     "text": [
      "<class 'pandas.core.frame.DataFrame'>\n",
      "RangeIndex: 8760 entries, 0 to 8759\n",
      "Data columns (total 13 columns):\n",
      " #   Column           Non-Null Count  Dtype         \n",
      "---  ------           --------------  -----         \n",
      " 0   Date             8760 non-null   datetime64[ns]\n",
      " 1   Hour             8760 non-null   int64         \n",
      " 2   Temperature      8581 non-null   float64       \n",
      " 3   Humidity         8760 non-null   int64         \n",
      " 4   Wind speed       8760 non-null   float64       \n",
      " 5   Rainfall         8760 non-null   float64       \n",
      " 6   Snowfall         8760 non-null   float64       \n",
      " 7   Seasons          8760 non-null   object        \n",
      " 8   Holiday          8760 non-null   object        \n",
      " 9   Functioning Day  8760 non-null   object        \n",
      " 10  Partner 1        8760 non-null   int64         \n",
      " 11  Partner 2        8760 non-null   int64         \n",
      " 12  Rental Count     8760 non-null   int64         \n",
      "dtypes: datetime64[ns](1), float64(4), int64(5), object(3)\n",
      "memory usage: 889.8+ KB\n"
     ]
    }
   ],
   "source": [
    "bikes.info()"
   ]
  },
  {
   "cell_type": "code",
   "execution_count": 57,
   "metadata": {},
   "outputs": [
    {
     "data": {
      "text/plain": [
       "0       12\n",
       "1       12\n",
       "2       12\n",
       "3       12\n",
       "4       12\n",
       "        ..\n",
       "8755    11\n",
       "8756    11\n",
       "8757    11\n",
       "8758    11\n",
       "8759    11\n",
       "Name: Date, Length: 8760, dtype: int64"
      ]
     },
     "execution_count": 57,
     "metadata": {},
     "output_type": "execute_result"
    }
   ],
   "source": [
    "bikes['Date'].dt.month"
   ]
  },
  {
   "cell_type": "code",
   "execution_count": 58,
   "metadata": {},
   "outputs": [
    {
     "data": {
      "text/plain": [
       "0       2017\n",
       "1       2017\n",
       "2       2017\n",
       "3       2017\n",
       "4       2017\n",
       "        ... \n",
       "8755    2018\n",
       "8756    2018\n",
       "8757    2018\n",
       "8758    2018\n",
       "8759    2018\n",
       "Name: Date, Length: 8760, dtype: int64"
      ]
     },
     "execution_count": 58,
     "metadata": {},
     "output_type": "execute_result"
    }
   ],
   "source": [
    "bikes['Date'].dt.year"
   ]
  },
  {
   "cell_type": "code",
   "execution_count": 59,
   "metadata": {},
   "outputs": [
    {
     "data": {
      "text/plain": [
       "(744, 13)"
      ]
     },
     "execution_count": 59,
     "metadata": {},
     "output_type": "execute_result"
    }
   ],
   "source": [
    "bikes[bikes['Date'].dt.year == 2017].shape"
   ]
  },
  {
   "cell_type": "code",
   "execution_count": 60,
   "metadata": {},
   "outputs": [
    {
     "data": {
      "text/plain": [
       "(8016, 13)"
      ]
     },
     "execution_count": 60,
     "metadata": {},
     "output_type": "execute_result"
    }
   ],
   "source": [
    "bikes[bikes['Date'].dt.year == 2018].shape"
   ]
  },
  {
   "cell_type": "code",
   "execution_count": 61,
   "metadata": {},
   "outputs": [
    {
     "data": {
      "text/plain": [
       "0       Friday\n",
       "1       Friday\n",
       "2       Friday\n",
       "3       Friday\n",
       "4       Friday\n",
       "         ...  \n",
       "8755    Friday\n",
       "8756    Friday\n",
       "8757    Friday\n",
       "8758    Friday\n",
       "8759    Friday\n",
       "Name: Date, Length: 8760, dtype: object"
      ]
     },
     "execution_count": 61,
     "metadata": {},
     "output_type": "execute_result"
    }
   ],
   "source": [
    "bikes['Date'].dt.day_name()"
   ]
  },
  {
   "cell_type": "code",
   "execution_count": 62,
   "metadata": {},
   "outputs": [
    {
     "data": {
      "text/plain": [
       "(1248, 13)"
      ]
     },
     "execution_count": 62,
     "metadata": {},
     "output_type": "execute_result"
    }
   ],
   "source": [
    "bikes[bikes['Date'].dt.day_name() == 'Sunday'].shape"
   ]
  },
  {
   "cell_type": "code",
   "execution_count": 63,
   "metadata": {},
   "outputs": [],
   "source": [
    "bikes['Functioning Day'] = bikes['Functioning Day'] == 'Yes'"
   ]
  },
  {
   "cell_type": "markdown",
   "metadata": {},
   "source": [
    "### Вспоминаем про функции"
   ]
  },
  {
   "cell_type": "code",
   "execution_count": 64,
   "metadata": {},
   "outputs": [
    {
     "data": {
      "text/plain": [
       "13.38"
      ]
     },
     "execution_count": 64,
     "metadata": {},
     "output_type": "execute_result"
    }
   ],
   "source": [
    "def currency_converter(rub):\n",
    "    return round(rub / 74.73,2)\n",
    "\n",
    "currency_converter(1000)"
   ]
  },
  {
   "cell_type": "code",
   "execution_count": 65,
   "metadata": {},
   "outputs": [
    {
     "name": "stdout",
     "output_type": "stream",
     "text": [
      "[13.38, 26.76, 56.39, 164.87]\n",
      "[13.38, 26.76, 56.39, 164.87]\n",
      "[0, 0, 1, 1]\n"
     ]
    }
   ],
   "source": [
    "amounts = [1000, 2000, 4214, 12321]\n",
    "print(list(map(currency_converter, amounts)))\n",
    "print(list(map(lambda x: round(x / 74.73,2), amounts)))\n",
    "print(list(map(lambda x: 0 if x < 3000 else 1, amounts)))"
   ]
  },
  {
   "cell_type": "code",
   "execution_count": 66,
   "metadata": {},
   "outputs": [
    {
     "data": {
      "text/plain": [
       "432"
      ]
     },
     "execution_count": 66,
     "metadata": {},
     "output_type": "execute_result"
    }
   ],
   "source": [
    "bikes['Holiday'].apply(lambda x: 1 if x == 'Holiday' else 0).sum()"
   ]
  },
  {
   "cell_type": "code",
   "execution_count": 67,
   "metadata": {},
   "outputs": [
    {
     "data": {
      "text/plain": [
       "(432, 13)"
      ]
     },
     "execution_count": 67,
     "metadata": {},
     "output_type": "execute_result"
    }
   ],
   "source": [
    "bikes[bikes['Holiday'] == 'Holiday'].shape"
   ]
  },
  {
   "cell_type": "code",
   "execution_count": 68,
   "metadata": {},
   "outputs": [],
   "source": [
    "bikes['Holiday'] = bikes['Holiday'].apply(lambda x: 1 if x == 'Holiday' else 0)"
   ]
  },
  {
   "cell_type": "code",
   "execution_count": 69,
   "metadata": {},
   "outputs": [
    {
     "data": {
      "text/html": [
       "<div>\n",
       "<style scoped>\n",
       "    .dataframe tbody tr th:only-of-type {\n",
       "        vertical-align: middle;\n",
       "    }\n",
       "\n",
       "    .dataframe tbody tr th {\n",
       "        vertical-align: top;\n",
       "    }\n",
       "\n",
       "    .dataframe thead th {\n",
       "        text-align: right;\n",
       "    }\n",
       "</style>\n",
       "<table border=\"1\" class=\"dataframe\">\n",
       "  <thead>\n",
       "    <tr style=\"text-align: right;\">\n",
       "      <th></th>\n",
       "      <th>Date</th>\n",
       "      <th>Hour</th>\n",
       "      <th>Temperature</th>\n",
       "      <th>Humidity</th>\n",
       "      <th>Wind speed</th>\n",
       "      <th>Rainfall</th>\n",
       "      <th>Snowfall</th>\n",
       "      <th>Seasons</th>\n",
       "      <th>Holiday</th>\n",
       "      <th>Functioning Day</th>\n",
       "      <th>Partner 1</th>\n",
       "      <th>Partner 2</th>\n",
       "      <th>Rental Count</th>\n",
       "    </tr>\n",
       "  </thead>\n",
       "  <tbody>\n",
       "    <tr>\n",
       "      <th>0</th>\n",
       "      <td>2017-12-01</td>\n",
       "      <td>0</td>\n",
       "      <td>-5.2</td>\n",
       "      <td>37</td>\n",
       "      <td>2.2</td>\n",
       "      <td>0.0</td>\n",
       "      <td>0.0</td>\n",
       "      <td>Winter</td>\n",
       "      <td>0</td>\n",
       "      <td>True</td>\n",
       "      <td>207</td>\n",
       "      <td>50</td>\n",
       "      <td>257</td>\n",
       "    </tr>\n",
       "    <tr>\n",
       "      <th>1</th>\n",
       "      <td>2017-12-01</td>\n",
       "      <td>1</td>\n",
       "      <td>-5.5</td>\n",
       "      <td>38</td>\n",
       "      <td>0.8</td>\n",
       "      <td>0.0</td>\n",
       "      <td>0.0</td>\n",
       "      <td>Winter</td>\n",
       "      <td>0</td>\n",
       "      <td>True</td>\n",
       "      <td>139</td>\n",
       "      <td>80</td>\n",
       "      <td>219</td>\n",
       "    </tr>\n",
       "    <tr>\n",
       "      <th>2</th>\n",
       "      <td>2017-12-01</td>\n",
       "      <td>2</td>\n",
       "      <td>-6.0</td>\n",
       "      <td>39</td>\n",
       "      <td>1.0</td>\n",
       "      <td>0.0</td>\n",
       "      <td>0.0</td>\n",
       "      <td>Winter</td>\n",
       "      <td>0</td>\n",
       "      <td>True</td>\n",
       "      <td>22</td>\n",
       "      <td>140</td>\n",
       "      <td>162</td>\n",
       "    </tr>\n",
       "    <tr>\n",
       "      <th>3</th>\n",
       "      <td>2017-12-01</td>\n",
       "      <td>3</td>\n",
       "      <td>-6.2</td>\n",
       "      <td>40</td>\n",
       "      <td>0.9</td>\n",
       "      <td>0.0</td>\n",
       "      <td>0.0</td>\n",
       "      <td>Winter</td>\n",
       "      <td>0</td>\n",
       "      <td>True</td>\n",
       "      <td>43</td>\n",
       "      <td>105</td>\n",
       "      <td>148</td>\n",
       "    </tr>\n",
       "    <tr>\n",
       "      <th>4</th>\n",
       "      <td>2017-12-01</td>\n",
       "      <td>4</td>\n",
       "      <td>-6.0</td>\n",
       "      <td>36</td>\n",
       "      <td>2.3</td>\n",
       "      <td>0.0</td>\n",
       "      <td>0.0</td>\n",
       "      <td>Winter</td>\n",
       "      <td>0</td>\n",
       "      <td>True</td>\n",
       "      <td>59</td>\n",
       "      <td>38</td>\n",
       "      <td>97</td>\n",
       "    </tr>\n",
       "  </tbody>\n",
       "</table>\n",
       "</div>"
      ],
      "text/plain": [
       "        Date  Hour  Temperature  Humidity  Wind speed  Rainfall  Snowfall  \\\n",
       "0 2017-12-01     0         -5.2        37         2.2       0.0       0.0   \n",
       "1 2017-12-01     1         -5.5        38         0.8       0.0       0.0   \n",
       "2 2017-12-01     2         -6.0        39         1.0       0.0       0.0   \n",
       "3 2017-12-01     3         -6.2        40         0.9       0.0       0.0   \n",
       "4 2017-12-01     4         -6.0        36         2.3       0.0       0.0   \n",
       "\n",
       "  Seasons  Holiday  Functioning Day  Partner 1  Partner 2  Rental Count  \n",
       "0  Winter        0             True        207         50           257  \n",
       "1  Winter        0             True        139         80           219  \n",
       "2  Winter        0             True         22        140           162  \n",
       "3  Winter        0             True         43        105           148  \n",
       "4  Winter        0             True         59         38            97  "
      ]
     },
     "execution_count": 69,
     "metadata": {},
     "output_type": "execute_result"
    }
   ],
   "source": [
    "bikes.head()"
   ]
  },
  {
   "cell_type": "code",
   "execution_count": 70,
   "metadata": {},
   "outputs": [],
   "source": [
    "bikes['Normal Humidity'] = bikes['Humidity'].apply(lambda x: 1 if x in range(40,61) else 0)"
   ]
  },
  {
   "cell_type": "code",
   "execution_count": 71,
   "metadata": {},
   "outputs": [],
   "source": [
    "def get_temp_cat(temp):\n",
    "    if temp < 0:\n",
    "        return 'Freezing'\n",
    "    elif temp < 15:\n",
    "        return 'Chilly'\n",
    "    elif temp < 26:\n",
    "        return 'Nice'\n",
    "    elif temp >= 26:\n",
    "        return 'Hot'\n",
    "    else:\n",
    "        return temp"
   ]
  },
  {
   "cell_type": "code",
   "execution_count": 72,
   "metadata": {},
   "outputs": [],
   "source": [
    "bikes['Temperature Category'] = bikes['Temperature'].apply(get_temp_cat)"
   ]
  },
  {
   "cell_type": "code",
   "execution_count": 73,
   "metadata": {},
   "outputs": [
    {
     "data": {
      "text/html": [
       "<div>\n",
       "<style scoped>\n",
       "    .dataframe tbody tr th:only-of-type {\n",
       "        vertical-align: middle;\n",
       "    }\n",
       "\n",
       "    .dataframe tbody tr th {\n",
       "        vertical-align: top;\n",
       "    }\n",
       "\n",
       "    .dataframe thead th {\n",
       "        text-align: right;\n",
       "    }\n",
       "</style>\n",
       "<table border=\"1\" class=\"dataframe\">\n",
       "  <thead>\n",
       "    <tr style=\"text-align: right;\">\n",
       "      <th></th>\n",
       "      <th>Temperature Category</th>\n",
       "      <th>Temperature</th>\n",
       "    </tr>\n",
       "  </thead>\n",
       "  <tbody>\n",
       "    <tr>\n",
       "      <th>8755</th>\n",
       "      <td>Chilly</td>\n",
       "      <td>4.2</td>\n",
       "    </tr>\n",
       "    <tr>\n",
       "      <th>8756</th>\n",
       "      <td>Chilly</td>\n",
       "      <td>3.4</td>\n",
       "    </tr>\n",
       "    <tr>\n",
       "      <th>8757</th>\n",
       "      <td>Chilly</td>\n",
       "      <td>2.6</td>\n",
       "    </tr>\n",
       "    <tr>\n",
       "      <th>8758</th>\n",
       "      <td>Chilly</td>\n",
       "      <td>2.1</td>\n",
       "    </tr>\n",
       "    <tr>\n",
       "      <th>8759</th>\n",
       "      <td>Chilly</td>\n",
       "      <td>1.9</td>\n",
       "    </tr>\n",
       "  </tbody>\n",
       "</table>\n",
       "</div>"
      ],
      "text/plain": [
       "     Temperature Category  Temperature\n",
       "8755               Chilly          4.2\n",
       "8756               Chilly          3.4\n",
       "8757               Chilly          2.6\n",
       "8758               Chilly          2.1\n",
       "8759               Chilly          1.9"
      ]
     },
     "execution_count": 73,
     "metadata": {},
     "output_type": "execute_result"
    }
   ],
   "source": [
    "bikes[['Temperature Category', 'Temperature']].tail()"
   ]
  },
  {
   "cell_type": "code",
   "execution_count": 74,
   "metadata": {},
   "outputs": [],
   "source": [
    "bikes['Temperature Category'] = pd.Categorical(bikes['Temperature Category'])"
   ]
  },
  {
   "cell_type": "code",
   "execution_count": 75,
   "metadata": {},
   "outputs": [
    {
     "name": "stdout",
     "output_type": "stream",
     "text": [
      "<class 'pandas.core.frame.DataFrame'>\n",
      "RangeIndex: 8760 entries, 0 to 8759\n",
      "Data columns (total 15 columns):\n",
      " #   Column                Non-Null Count  Dtype         \n",
      "---  ------                --------------  -----         \n",
      " 0   Date                  8760 non-null   datetime64[ns]\n",
      " 1   Hour                  8760 non-null   int64         \n",
      " 2   Temperature           8581 non-null   float64       \n",
      " 3   Humidity              8760 non-null   int64         \n",
      " 4   Wind speed            8760 non-null   float64       \n",
      " 5   Rainfall              8760 non-null   float64       \n",
      " 6   Snowfall              8760 non-null   float64       \n",
      " 7   Seasons               8760 non-null   object        \n",
      " 8   Holiday               8760 non-null   int64         \n",
      " 9   Functioning Day       8760 non-null   bool          \n",
      " 10  Partner 1             8760 non-null   int64         \n",
      " 11  Partner 2             8760 non-null   int64         \n",
      " 12  Rental Count          8760 non-null   int64         \n",
      " 13  Normal Humidity       8760 non-null   int64         \n",
      " 14  Temperature Category  8581 non-null   category      \n",
      "dtypes: bool(1), category(1), datetime64[ns](1), float64(4), int64(7), object(1)\n",
      "memory usage: 907.1+ KB\n"
     ]
    }
   ],
   "source": [
    "bikes.info()"
   ]
  },
  {
   "cell_type": "code",
   "execution_count": 76,
   "metadata": {},
   "outputs": [
    {
     "data": {
      "text/plain": [
       "0       1\n",
       "1       1\n",
       "2       1\n",
       "3       1\n",
       "4       1\n",
       "       ..\n",
       "8755    0\n",
       "8756    0\n",
       "8757    0\n",
       "8758    0\n",
       "8759    0\n",
       "Length: 8760, dtype: int8"
      ]
     },
     "execution_count": 76,
     "metadata": {},
     "output_type": "execute_result"
    }
   ],
   "source": [
    "bikes['Temperature Category'].cat.codes"
   ]
  },
  {
   "cell_type": "code",
   "execution_count": 77,
   "metadata": {},
   "outputs": [
    {
     "data": {
      "text/plain": [
       "Index(['Chilly', 'Freezing', 'Hot', 'Nice'], dtype='object')"
      ]
     },
     "execution_count": 77,
     "metadata": {},
     "output_type": "execute_result"
    }
   ],
   "source": [
    "bikes['Temperature Category'].cat.categories"
   ]
  },
  {
   "cell_type": "code",
   "execution_count": 78,
   "metadata": {},
   "outputs": [],
   "source": [
    "import numpy as np\n",
    "\n",
    "bikes['Good Weather'] = np.where((bikes['Temperature Category'] == 'Nice') &\n",
    "         (bikes['Normal Humidity'] == 1) &\n",
    "         (bikes['Wind speed'] <= 5.4) &\n",
    "         (bikes['Snowfall'] == 0) &\n",
    "         (bikes['Rainfall'] == 0), 1, 0)"
   ]
  },
  {
   "cell_type": "code",
   "execution_count": 79,
   "metadata": {},
   "outputs": [
    {
     "name": "stdout",
     "output_type": "stream",
     "text": [
      "<class 'pandas.core.frame.DataFrame'>\n",
      "RangeIndex: 8760 entries, 0 to 8759\n",
      "Data columns (total 16 columns):\n",
      " #   Column                Non-Null Count  Dtype         \n",
      "---  ------                --------------  -----         \n",
      " 0   Date                  8760 non-null   datetime64[ns]\n",
      " 1   Hour                  8760 non-null   int64         \n",
      " 2   Temperature           8581 non-null   float64       \n",
      " 3   Humidity              8760 non-null   int64         \n",
      " 4   Wind speed            8760 non-null   float64       \n",
      " 5   Rainfall              8760 non-null   float64       \n",
      " 6   Snowfall              8760 non-null   float64       \n",
      " 7   Seasons               8760 non-null   object        \n",
      " 8   Holiday               8760 non-null   int64         \n",
      " 9   Functioning Day       8760 non-null   bool          \n",
      " 10  Partner 1             8760 non-null   int64         \n",
      " 11  Partner 2             8760 non-null   int64         \n",
      " 12  Rental Count          8760 non-null   int64         \n",
      " 13  Normal Humidity       8760 non-null   int64         \n",
      " 14  Temperature Category  8581 non-null   category      \n",
      " 15  Good Weather          8760 non-null   int64         \n",
      "dtypes: bool(1), category(1), datetime64[ns](1), float64(4), int64(8), object(1)\n",
      "memory usage: 975.5+ KB\n"
     ]
    }
   ],
   "source": [
    "bikes.info()"
   ]
  },
  {
   "cell_type": "code",
   "execution_count": 80,
   "metadata": {},
   "outputs": [],
   "source": [
    "bikes = bikes.drop('Partner 1', axis=1)"
   ]
  },
  {
   "cell_type": "code",
   "execution_count": 81,
   "metadata": {},
   "outputs": [],
   "source": [
    "del bikes['Partner 2']"
   ]
  },
  {
   "cell_type": "code",
   "execution_count": 82,
   "metadata": {},
   "outputs": [
    {
     "name": "stdout",
     "output_type": "stream",
     "text": [
      "<class 'pandas.core.frame.DataFrame'>\n",
      "RangeIndex: 8760 entries, 0 to 8759\n",
      "Data columns (total 14 columns):\n",
      " #   Column                Non-Null Count  Dtype         \n",
      "---  ------                --------------  -----         \n",
      " 0   Date                  8760 non-null   datetime64[ns]\n",
      " 1   Hour                  8760 non-null   int64         \n",
      " 2   Temperature           8581 non-null   float64       \n",
      " 3   Humidity              8760 non-null   int64         \n",
      " 4   Wind speed            8760 non-null   float64       \n",
      " 5   Rainfall              8760 non-null   float64       \n",
      " 6   Snowfall              8760 non-null   float64       \n",
      " 7   Seasons               8760 non-null   object        \n",
      " 8   Holiday               8760 non-null   int64         \n",
      " 9   Functioning Day       8760 non-null   bool          \n",
      " 10  Rental Count          8760 non-null   int64         \n",
      " 11  Normal Humidity       8760 non-null   int64         \n",
      " 12  Temperature Category  8581 non-null   category      \n",
      " 13  Good Weather          8760 non-null   int64         \n",
      "dtypes: bool(1), category(1), datetime64[ns](1), float64(4), int64(6), object(1)\n",
      "memory usage: 838.7+ KB\n"
     ]
    }
   ],
   "source": [
    "bikes.info()"
   ]
  },
  {
   "cell_type": "code",
   "execution_count": 83,
   "metadata": {},
   "outputs": [],
   "source": [
    "bikes.to_pickle('Data/BikesDataVars.pkl')"
   ]
  },
  {
   "cell_type": "code",
   "execution_count": 88,
   "metadata": {},
   "outputs": [],
   "source": [
    "bikes.to_csv('Data/BikesDataVars.csv', index=False)\n",
    "bikes.to_excel('Data/BikesDataVars.xlsx', index=False)"
   ]
  },
  {
   "cell_type": "code",
   "execution_count": 85,
   "metadata": {},
   "outputs": [],
   "source": [
    "df_pkl = pd.read_pickle('Data/BikesDataVars.pkl')"
   ]
  },
  {
   "cell_type": "code",
   "execution_count": 86,
   "metadata": {},
   "outputs": [
    {
     "name": "stdout",
     "output_type": "stream",
     "text": [
      "<class 'pandas.core.frame.DataFrame'>\n",
      "RangeIndex: 8760 entries, 0 to 8759\n",
      "Data columns (total 14 columns):\n",
      " #   Column                Non-Null Count  Dtype         \n",
      "---  ------                --------------  -----         \n",
      " 0   Date                  8760 non-null   datetime64[ns]\n",
      " 1   Hour                  8760 non-null   int64         \n",
      " 2   Temperature           8581 non-null   float64       \n",
      " 3   Humidity              8760 non-null   int64         \n",
      " 4   Wind speed            8760 non-null   float64       \n",
      " 5   Rainfall              8760 non-null   float64       \n",
      " 6   Snowfall              8760 non-null   float64       \n",
      " 7   Seasons               8760 non-null   object        \n",
      " 8   Holiday               8760 non-null   int64         \n",
      " 9   Functioning Day       8760 non-null   bool          \n",
      " 10  Rental Count          8760 non-null   int64         \n",
      " 11  Normal Humidity       8760 non-null   int64         \n",
      " 12  Temperature Category  8581 non-null   category      \n",
      " 13  Good Weather          8760 non-null   int64         \n",
      "dtypes: bool(1), category(1), datetime64[ns](1), float64(4), int64(6), object(1)\n",
      "memory usage: 838.5+ KB\n"
     ]
    }
   ],
   "source": [
    "df_pkl.info()"
   ]
  },
  {
   "cell_type": "code",
   "execution_count": 89,
   "metadata": {},
   "outputs": [
    {
     "name": "stdout",
     "output_type": "stream",
     "text": [
      "<class 'pandas.core.frame.DataFrame'>\n",
      "RangeIndex: 8760 entries, 0 to 8759\n",
      "Data columns (total 14 columns):\n",
      " #   Column                Non-Null Count  Dtype  \n",
      "---  ------                --------------  -----  \n",
      " 0   Date                  8760 non-null   object \n",
      " 1   Hour                  8760 non-null   int64  \n",
      " 2   Temperature           8581 non-null   float64\n",
      " 3   Humidity              8760 non-null   int64  \n",
      " 4   Wind speed            8760 non-null   float64\n",
      " 5   Rainfall              8760 non-null   float64\n",
      " 6   Snowfall              8760 non-null   float64\n",
      " 7   Seasons               8760 non-null   object \n",
      " 8   Holiday               8760 non-null   int64  \n",
      " 9   Functioning Day       8760 non-null   bool   \n",
      " 10  Rental Count          8760 non-null   int64  \n",
      " 11  Normal Humidity       8760 non-null   int64  \n",
      " 12  Temperature Category  8581 non-null   object \n",
      " 13  Good Weather          8760 non-null   int64  \n",
      "dtypes: bool(1), float64(4), int64(6), object(3)\n",
      "memory usage: 898.4+ KB\n"
     ]
    }
   ],
   "source": [
    "df_csv = pd.read_csv('Data/BikesDataVars.csv')\n",
    "df_csv.info()"
   ]
  },
  {
   "cell_type": "code",
   "execution_count": 90,
   "metadata": {},
   "outputs": [
    {
     "name": "stdout",
     "output_type": "stream",
     "text": [
      "<class 'pandas.core.frame.DataFrame'>\n",
      "RangeIndex: 8760 entries, 0 to 8759\n",
      "Data columns (total 14 columns):\n",
      " #   Column                Non-Null Count  Dtype         \n",
      "---  ------                --------------  -----         \n",
      " 0   Date                  8760 non-null   datetime64[ns]\n",
      " 1   Hour                  8760 non-null   int64         \n",
      " 2   Temperature           8581 non-null   float64       \n",
      " 3   Humidity              8760 non-null   int64         \n",
      " 4   Wind speed            8760 non-null   float64       \n",
      " 5   Rainfall              8760 non-null   float64       \n",
      " 6   Snowfall              8760 non-null   float64       \n",
      " 7   Seasons               8760 non-null   object        \n",
      " 8   Holiday               8760 non-null   int64         \n",
      " 9   Functioning Day       8760 non-null   bool          \n",
      " 10  Rental Count          8760 non-null   int64         \n",
      " 11  Normal Humidity       8760 non-null   int64         \n",
      " 12  Temperature Category  8581 non-null   object        \n",
      " 13  Good Weather          8760 non-null   int64         \n",
      "dtypes: bool(1), datetime64[ns](1), float64(4), int64(6), object(2)\n",
      "memory usage: 898.4+ KB\n"
     ]
    }
   ],
   "source": [
    "df_xlsx = pd.read_excel('Data/BikesDataVars.xlsx', index_col=False)\n",
    "df_xlsx.info()"
   ]
  },
  {
   "cell_type": "code",
   "execution_count": null,
   "metadata": {},
   "outputs": [],
   "source": []
  }
 ],
 "metadata": {
  "kernelspec": {
   "display_name": "Python 3",
   "language": "python",
   "name": "python3"
  },
  "language_info": {
   "codemirror_mode": {
    "name": "ipython",
    "version": 3
   },
   "file_extension": ".py",
   "mimetype": "text/x-python",
   "name": "python",
   "nbconvert_exporter": "python",
   "pygments_lexer": "ipython3",
   "version": "3.8.5"
  }
 },
 "nbformat": 4,
 "nbformat_minor": 4
}
