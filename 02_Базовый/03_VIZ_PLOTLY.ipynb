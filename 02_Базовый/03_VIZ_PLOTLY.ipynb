{
 "cells": [
  {
   "cell_type": "markdown",
   "metadata": {},
   "source": [
    "# Визуализации с Plotly"
   ]
  },
  {
   "cell_type": "code",
   "execution_count": null,
   "metadata": {},
   "outputs": [],
   "source": [
    "#!pip install plotly==4.14.3\n",
    "import plotly.graph_objects as go\n",
    "import plotly.express as px\n",
    "import pandas as pd\n",
    "\n",
    "gapminder = pd.read_csv('Data/gapminderData.csv')\n",
    "gapminder['continent'] = pd.Categorical(gapminder['continent'])\n",
    "gapminder.head()"
   ]
  },
  {
   "cell_type": "code",
   "execution_count": null,
   "metadata": {},
   "outputs": [],
   "source": [
    "gapminder_Ger = gapminder[gapminder['country'] == 'Germany']"
   ]
  },
  {
   "cell_type": "code",
   "execution_count": null,
   "metadata": {},
   "outputs": [],
   "source": [
    "trace = go.Bar(x=gapminder_Ger['year'],\n",
    "               y=gapminder_Ger['lifeExp'])\n",
    "\n",
    "layout = go.Layout(title='Life Expectancy in Germany from 1952 to 2007')\n",
    "fig = go.Figure(data = trace, layout = layout)\n",
    "fig"
   ]
  },
  {
   "cell_type": "code",
   "execution_count": null,
   "metadata": {},
   "outputs": [],
   "source": [
    "trace = go.Scatter(x=gapminder_Ger['year'],\n",
    "               y=gapminder_Ger['lifeExp'])\n",
    "\n",
    "layout = go.Layout(title='Life Expectancy in Germany from 1952 to 2007',\n",
    "                  yaxis={'range':[0,90]})\n",
    "fig = go.Figure(data = trace, layout = layout)\n",
    "fig"
   ]
  },
  {
   "cell_type": "code",
   "execution_count": null,
   "metadata": {},
   "outputs": [],
   "source": [
    "gapminder_Afg = gapminder[gapminder['country'] == 'Afghanistan']"
   ]
  },
  {
   "cell_type": "code",
   "execution_count": null,
   "metadata": {},
   "outputs": [],
   "source": [
    "trace0 = go.Scatter(x=gapminder_Ger['year'],\n",
    "                    y=gapminder_Ger['lifeExp'],\n",
    "                    name='Germany')\n",
    "\n",
    "trace1 = go.Scatter(x=gapminder_Afg['year'],\n",
    "                    y=gapminder_Afg['lifeExp'],\n",
    "                    name='Afghanistan')\n",
    "\n",
    "layout = go.Layout(title='Life Expectancy in Germany and Afganistan from 1952 to 2007',\n",
    "                  yaxis={'range':[0,90]})\n",
    "\n",
    "fig = go.Figure(data = [trace0, trace1], layout = layout)\n",
    "fig"
   ]
  },
  {
   "cell_type": "code",
   "execution_count": null,
   "metadata": {},
   "outputs": [],
   "source": [
    "gapminder_1972 = gapminder[gapminder['year'] == 1972]"
   ]
  },
  {
   "cell_type": "code",
   "execution_count": null,
   "metadata": {},
   "outputs": [],
   "source": [
    "trace0 = go.Scatter(\n",
    "    x = gapminder_1972['gdpPercap'],\n",
    "    y = gapminder_1972['lifeExp'],\n",
    "    mode = 'markers',\n",
    "    marker = dict(size = gapminder_1972['pop']/8000000,\n",
    "                color = gapminder_1972['continent'].cat.codes,\n",
    "                opacity = 0.7,\n",
    "                colorscale ='Viridis',\n",
    "                showscale =False),\n",
    "    text = gapminder_1972['country'],\n",
    "    hovertemplate =\n",
    "    '<b>%{text}</b>' +\n",
    "    '<br><i>GDG per Capita</i>: %{x}' +\n",
    "    '<br><i>Life Expectancy</i>: %{y}',\n",
    "    )\n",
    "\n",
    "layout = go.Layout(title='Life Expectancy v. Per Capita GDP in 1972',\n",
    "                   xaxis=dict(\n",
    "                        title='GDP per capita',\n",
    "                        type='log'),\n",
    "                    yaxis=dict(\n",
    "                        title='Life Expectancy (years)'))\n",
    "\n",
    "\n",
    "fig = go.Figure(data = [trace0], layout = layout)\n",
    "fig"
   ]
  },
  {
   "cell_type": "code",
   "execution_count": null,
   "metadata": {},
   "outputs": [],
   "source": [
    "import plotly.express as px\n",
    "\n",
    "px.scatter(gapminder, x=\"gdpPercap\", y=\"lifeExp\", animation_frame=\"year\",\n",
    "           size=\"pop\", color=\"continent\", hover_name=\"country\",\n",
    "           log_x=True, size_max=55, range_x=[100,100000], range_y=[25,90])"
   ]
  },
  {
   "cell_type": "code",
   "execution_count": null,
   "metadata": {},
   "outputs": [],
   "source": []
  }
 ],
 "metadata": {
  "kernelspec": {
   "display_name": "Python 3",
   "language": "python",
   "name": "python3"
  },
  "language_info": {
   "codemirror_mode": {
    "name": "ipython",
    "version": 3
   },
   "file_extension": ".py",
   "mimetype": "text/x-python",
   "name": "python",
   "nbconvert_exporter": "python",
   "pygments_lexer": "ipython3",
   "version": "3.8.5"
  }
 },
 "nbformat": 4,
 "nbformat_minor": 4
}
