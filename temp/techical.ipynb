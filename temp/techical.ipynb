{
 "cells": [
  {
   "cell_type": "markdown",
   "metadata": {},
   "source": [
    "# Начало работы с датасетом"
   ]
  },
  {
   "cell_type": "code",
   "execution_count": 65,
   "metadata": {},
   "outputs": [
    {
     "name": "stdout",
     "output_type": "stream",
     "text": [
      "(125753, 12)\n",
      "<class 'pandas.core.frame.DataFrame'>\n",
      "RangeIndex: 125753 entries, 0 to 125752\n",
      "Data columns (total 12 columns):\n",
      " #   Column            Non-Null Count   Dtype \n",
      "---  ------            --------------   ----- \n",
      " 0   Animal ID         125753 non-null  object\n",
      " 1   Name              86171 non-null   object\n",
      " 2   DateTime          125753 non-null  object\n",
      " 3   MonthYear         125753 non-null  object\n",
      " 4   Found Location    125753 non-null  object\n",
      " 5   Intake Type       125753 non-null  object\n",
      " 6   Intake Condition  125753 non-null  object\n",
      " 7   Animal Type       125753 non-null  object\n",
      " 8   Sex upon Intake   125752 non-null  object\n",
      " 9   Age upon Intake   125753 non-null  object\n",
      " 10  Breed             125753 non-null  object\n",
      " 11  Color             125753 non-null  object\n",
      "dtypes: object(12)\n",
      "memory usage: 11.5+ MB\n"
     ]
    }
   ],
   "source": [
    "import pandas as pd\n",
    "intakes = pd.read_csv('Data/Austin_Animal_Center_Intakes.csv', sep=';')\n",
    "print(intakes.shape)\n",
    "intakes.info()"
   ]
  },
  {
   "cell_type": "code",
   "execution_count": 66,
   "metadata": {},
   "outputs": [],
   "source": [
    "intakes.drop('MonthYear', inplace=True, axis=1)"
   ]
  },
  {
   "cell_type": "code",
   "execution_count": 67,
   "metadata": {},
   "outputs": [],
   "source": [
    "#intakes.to_csv('Intakes.csv', sep=';')"
   ]
  },
  {
   "cell_type": "code",
   "execution_count": 68,
   "metadata": {},
   "outputs": [],
   "source": [
    "outcomes = pd.read_csv('Data/Austin_Animal_Center_Outcomes.csv', sep=';')\n",
    "outcomes.drop('MonthYear', inplace=True, axis=1)"
   ]
  },
  {
   "cell_type": "code",
   "execution_count": 69,
   "metadata": {},
   "outputs": [],
   "source": [
    "intakes_2019_2020_2021 = intakes[intakes['DateTime'].str.contains('2019') | \n",
    "                                 intakes['DateTime'].str.contains('2020') |\n",
    "                                 intakes['DateTime'].str.contains('2021')]"
   ]
  },
  {
   "cell_type": "code",
   "execution_count": 71,
   "metadata": {},
   "outputs": [],
   "source": [
    "intakes_2019_2020_2021.reset_index(drop=True, inplace=True)"
   ]
  },
  {
   "cell_type": "code",
   "execution_count": 114,
   "metadata": {},
   "outputs": [],
   "source": [
    "intakes_2019_2020_2021.drop_duplicates(subset=['Animal ID'], keep = 'first', inplace=True)"
   ]
  },
  {
   "cell_type": "code",
   "execution_count": 115,
   "metadata": {},
   "outputs": [],
   "source": [
    "intakes_2019_2020_2021.to_csv('Data/Intakes_2019-2021.csv', sep=';', index=None)"
   ]
  },
  {
   "cell_type": "code",
   "execution_count": 49,
   "metadata": {},
   "outputs": [],
   "source": [
    "#outcomes.to_csv('Outcomes.csv', sep=';')"
   ]
  },
  {
   "cell_type": "code",
   "execution_count": 74,
   "metadata": {},
   "outputs": [],
   "source": [
    "outcomes_2019_2020_2021 = outcomes[outcomes['DateTime'].str.contains('2019') | \n",
    "                                 outcomes['DateTime'].str.contains('2020') |\n",
    "                                 outcomes['DateTime'].str.contains('2021')]\n",
    "\n",
    "outcomes_2019_2020_2021.reset_index(drop=True, inplace=True)"
   ]
  },
  {
   "cell_type": "code",
   "execution_count": 116,
   "metadata": {},
   "outputs": [],
   "source": [
    "outcomes_2019_2020_2021.drop_duplicates(subset=['Animal ID'], keep = 'last', inplace=True)"
   ]
  },
  {
   "cell_type": "code",
   "execution_count": 117,
   "metadata": {},
   "outputs": [],
   "source": [
    "outcomes_2019_2020_2021.to_csv('Data/Outcomes_2019-2021.csv', sep=';', index=None)"
   ]
  },
  {
   "cell_type": "code",
   "execution_count": 118,
   "metadata": {},
   "outputs": [],
   "source": [
    "intakes = pd.read_csv('Data/Intakes_2019-2021.csv', sep=';')\n",
    "outcomes = pd.read_csv('Data/Outcomes_2019-2021.csv', sep=';')"
   ]
  },
  {
   "cell_type": "code",
   "execution_count": 119,
   "metadata": {},
   "outputs": [
    {
     "name": "stdout",
     "output_type": "stream",
     "text": [
      "<class 'pandas.core.frame.DataFrame'>\n",
      "RangeIndex: 29568 entries, 0 to 29567\n",
      "Data columns (total 11 columns):\n",
      " #   Column            Non-Null Count  Dtype \n",
      "---  ------            --------------  ----- \n",
      " 0   Animal ID         29568 non-null  object\n",
      " 1   Name              18813 non-null  object\n",
      " 2   DateTime          29568 non-null  object\n",
      " 3   Found Location    29568 non-null  object\n",
      " 4   Intake Type       29568 non-null  object\n",
      " 5   Intake Condition  29568 non-null  object\n",
      " 6   Animal Type       29568 non-null  object\n",
      " 7   Sex upon Intake   29568 non-null  object\n",
      " 8   Age upon Intake   29568 non-null  object\n",
      " 9   Breed             29568 non-null  object\n",
      " 10  Color             29568 non-null  object\n",
      "dtypes: object(11)\n",
      "memory usage: 2.5+ MB\n"
     ]
    }
   ],
   "source": [
    "intakes.info()"
   ]
  },
  {
   "cell_type": "code",
   "execution_count": 120,
   "metadata": {},
   "outputs": [
    {
     "name": "stdout",
     "output_type": "stream",
     "text": [
      "<class 'pandas.core.frame.DataFrame'>\n",
      "RangeIndex: 29750 entries, 0 to 29749\n",
      "Data columns (total 11 columns):\n",
      " #   Column            Non-Null Count  Dtype \n",
      "---  ------            --------------  ----- \n",
      " 0   Animal ID         29750 non-null  object\n",
      " 1   Name              19120 non-null  object\n",
      " 2   DateTime          29750 non-null  object\n",
      " 3   Date of Birth     29750 non-null  object\n",
      " 4   Outcome Type      29730 non-null  object\n",
      " 5   Outcome Subtype   14986 non-null  object\n",
      " 6   Animal Type       29750 non-null  object\n",
      " 7   Sex upon Outcome  29750 non-null  object\n",
      " 8   Age upon Outcome  29750 non-null  object\n",
      " 9   Breed             29750 non-null  object\n",
      " 10  Color             29750 non-null  object\n",
      "dtypes: object(11)\n",
      "memory usage: 2.5+ MB\n"
     ]
    }
   ],
   "source": [
    "outcomes.info()"
   ]
  },
  {
   "cell_type": "code",
   "execution_count": 121,
   "metadata": {},
   "outputs": [],
   "source": [
    "outcomes_sub = outcomes[['Animal ID', 'DateTime', 'Date of Birth', 'Outcome Type', 'Sex upon Outcome', 'Age upon Outcome']]"
   ]
  },
  {
   "cell_type": "code",
   "execution_count": 122,
   "metadata": {},
   "outputs": [
    {
     "data": {
      "text/html": [
       "<div>\n",
       "<style scoped>\n",
       "    .dataframe tbody tr th:only-of-type {\n",
       "        vertical-align: middle;\n",
       "    }\n",
       "\n",
       "    .dataframe tbody tr th {\n",
       "        vertical-align: top;\n",
       "    }\n",
       "\n",
       "    .dataframe thead th {\n",
       "        text-align: right;\n",
       "    }\n",
       "</style>\n",
       "<table border=\"1\" class=\"dataframe\">\n",
       "  <thead>\n",
       "    <tr style=\"text-align: right;\">\n",
       "      <th></th>\n",
       "      <th>Animal ID</th>\n",
       "      <th>DateTime</th>\n",
       "      <th>Date of Birth</th>\n",
       "      <th>Outcome Type</th>\n",
       "      <th>Sex upon Outcome</th>\n",
       "      <th>Age upon Outcome</th>\n",
       "    </tr>\n",
       "  </thead>\n",
       "  <tbody>\n",
       "    <tr>\n",
       "      <th>0</th>\n",
       "      <td>A794011</td>\n",
       "      <td>05/08/2019 06:20:00 PM</td>\n",
       "      <td>05/02/2017</td>\n",
       "      <td>Rto-Adopt</td>\n",
       "      <td>Neutered Male</td>\n",
       "      <td>2 years</td>\n",
       "    </tr>\n",
       "    <tr>\n",
       "      <th>1</th>\n",
       "      <td>A821648</td>\n",
       "      <td>08/16/2020 11:38:00 AM</td>\n",
       "      <td>08/16/2019</td>\n",
       "      <td>Euthanasia</td>\n",
       "      <td>Unknown</td>\n",
       "      <td>1 year</td>\n",
       "    </tr>\n",
       "    <tr>\n",
       "      <th>2</th>\n",
       "      <td>A659412</td>\n",
       "      <td>10/05/2020 02:37:00 PM</td>\n",
       "      <td>03/24/2013</td>\n",
       "      <td>Adoption</td>\n",
       "      <td>Spayed Female</td>\n",
       "      <td>7 years</td>\n",
       "    </tr>\n",
       "    <tr>\n",
       "      <th>3</th>\n",
       "      <td>A814515</td>\n",
       "      <td>05/06/2020 07:59:00 AM</td>\n",
       "      <td>03/01/2018</td>\n",
       "      <td>Adoption</td>\n",
       "      <td>Neutered Male</td>\n",
       "      <td>2 years</td>\n",
       "    </tr>\n",
       "    <tr>\n",
       "      <th>4</th>\n",
       "      <td>A803149</td>\n",
       "      <td>08/31/2019 04:26:00 PM</td>\n",
       "      <td>08/08/2019</td>\n",
       "      <td>Transfer</td>\n",
       "      <td>Intact Male</td>\n",
       "      <td>3 weeks</td>\n",
       "    </tr>\n",
       "  </tbody>\n",
       "</table>\n",
       "</div>"
      ],
      "text/plain": [
       "  Animal ID                DateTime Date of Birth Outcome Type  \\\n",
       "0   A794011  05/08/2019 06:20:00 PM    05/02/2017    Rto-Adopt   \n",
       "1   A821648  08/16/2020 11:38:00 AM    08/16/2019   Euthanasia   \n",
       "2   A659412  10/05/2020 02:37:00 PM    03/24/2013     Adoption   \n",
       "3   A814515  05/06/2020 07:59:00 AM    03/01/2018     Adoption   \n",
       "4   A803149  08/31/2019 04:26:00 PM    08/08/2019     Transfer   \n",
       "\n",
       "  Sex upon Outcome Age upon Outcome  \n",
       "0    Neutered Male          2 years  \n",
       "1          Unknown           1 year  \n",
       "2    Spayed Female          7 years  \n",
       "3    Neutered Male          2 years  \n",
       "4      Intact Male          3 weeks  "
      ]
     },
     "execution_count": 122,
     "metadata": {},
     "output_type": "execute_result"
    }
   ],
   "source": [
    "outcomes_sub.head()"
   ]
  },
  {
   "cell_type": "markdown",
   "metadata": {},
   "source": [
    "```Python \n",
    "pd.merge(\n",
    "    left,\n",
    "    right,\n",
    "    how=\"inner\", # left, outer, right\n",
    "    on=None,\n",
    "    left_on=None,\n",
    "    right_on=None,\n",
    "    left_index=False,\n",
    "    right_index=False,\n",
    "    sort=True,\n",
    "    suffixes=(\"_x\", \"_y\"),\n",
    ")\n",
    "```"
   ]
  },
  {
   "cell_type": "code",
   "execution_count": 123,
   "metadata": {},
   "outputs": [],
   "source": [
    "data = intakes.merge(outcomes_sub, how='left', on='Animal ID', suffixes=(\" Intake\", \" Outcome\"))"
   ]
  },
  {
   "cell_type": "code",
   "execution_count": 124,
   "metadata": {},
   "outputs": [
    {
     "name": "stdout",
     "output_type": "stream",
     "text": [
      "<class 'pandas.core.frame.DataFrame'>\n",
      "Int64Index: 29568 entries, 0 to 29567\n",
      "Data columns (total 16 columns):\n",
      " #   Column            Non-Null Count  Dtype \n",
      "---  ------            --------------  ----- \n",
      " 0   Animal ID         29568 non-null  object\n",
      " 1   Name              18813 non-null  object\n",
      " 2   DateTime Intake   29568 non-null  object\n",
      " 3   Found Location    29568 non-null  object\n",
      " 4   Intake Type       29568 non-null  object\n",
      " 5   Intake Condition  29568 non-null  object\n",
      " 6   Animal Type       29568 non-null  object\n",
      " 7   Sex upon Intake   29568 non-null  object\n",
      " 8   Age upon Intake   29568 non-null  object\n",
      " 9   Breed             29568 non-null  object\n",
      " 10  Color             29568 non-null  object\n",
      " 11  DateTime Outcome  28947 non-null  object\n",
      " 12  Date of Birth     28947 non-null  object\n",
      " 13  Outcome Type      28927 non-null  object\n",
      " 14  Sex upon Outcome  28947 non-null  object\n",
      " 15  Age upon Outcome  28947 non-null  object\n",
      "dtypes: object(16)\n",
      "memory usage: 3.8+ MB\n"
     ]
    }
   ],
   "source": [
    "data.info()"
   ]
  },
  {
   "cell_type": "code",
   "execution_count": 126,
   "metadata": {},
   "outputs": [
    {
     "data": {
      "text/plain": [
       "Animal ID               0\n",
       "Name                10755\n",
       "DateTime Intake         0\n",
       "Found Location          0\n",
       "Intake Type             0\n",
       "Intake Condition        0\n",
       "Animal Type             0\n",
       "Sex upon Intake         0\n",
       "Age upon Intake         0\n",
       "Breed                   0\n",
       "Color                   0\n",
       "DateTime Outcome      621\n",
       "Date of Birth         621\n",
       "Outcome Type          641\n",
       "Sex upon Outcome      621\n",
       "Age upon Outcome      621\n",
       "dtype: int64"
      ]
     },
     "execution_count": 126,
     "metadata": {},
     "output_type": "execute_result"
    }
   ],
   "source": [
    "data.isna().sum()"
   ]
  },
  {
   "cell_type": "code",
   "execution_count": null,
   "metadata": {},
   "outputs": [],
   "source": [
    "full_data['Outcome Type'].value_counts(dropna=False)"
   ]
  }
 ],
 "metadata": {
  "kernelspec": {
   "display_name": "Python 3",
   "language": "python",
   "name": "python3"
  },
  "language_info": {
   "codemirror_mode": {
    "name": "ipython",
    "version": 3
   },
   "file_extension": ".py",
   "mimetype": "text/x-python",
   "name": "python",
   "nbconvert_exporter": "python",
   "pygments_lexer": "ipython3",
   "version": "3.8.5"
  }
 },
 "nbformat": 4,
 "nbformat_minor": 4
}
